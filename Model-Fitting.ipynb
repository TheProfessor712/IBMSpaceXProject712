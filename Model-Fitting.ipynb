{
  "cells": [
    {
      "cell_type": "code",
      "source": [
        "pip show azure-ai-ml"
      ],
      "outputs": [
        {
          "output_type": "stream",
          "name": "stdout",
          "text": "Name: azure-ai-ml\r\nVersion: 1.5.0\r\nSummary: Microsoft Azure Machine Learning Client Library for Python\r\nHome-page: https://github.com/Azure/azure-sdk-for-python\r\nAuthor: Microsoft Corporation\r\nAuthor-email: azuresdkengsysadmins@microsoft.com\r\nLicense: MIT License\r\nLocation: /anaconda/envs/azureml_py310_sdkv2/lib/python3.10/site-packages\r\nRequires: azure-common, azure-core, azure-mgmt-core, azure-storage-blob, azure-storage-file-datalake, azure-storage-file-share, colorama, isodate, jsonschema, marshmallow, msrest, opencensus-ext-azure, pydash, pyjwt, pyyaml, strictyaml, tqdm, typing-extensions\r\nRequired-by: \r\nNote: you may need to restart the kernel to use updated packages.\n"
        }
      ],
      "execution_count": 1,
      "metadata": {
        "gather": {
          "logged": 1685904363271
        }
      }
    },
    {
      "cell_type": "code",
      "source": [
        "subscription_id = \"<MASKED>\"\r\n",
        "resource_group = \"<MASKED>\"\r\n",
        "workspace = \"<MASKED>\""
      ],
      "outputs": [],
      "execution_count": 1,
      "metadata": {
        "jupyter": {
          "source_hidden": false,
          "outputs_hidden": false
        },
        "nteract": {
          "transient": {
            "deleting": false
          }
        },
        "gather": {
          "logged": 1685904389098
        }
      }
    },
    {
      "cell_type": "code",
      "source": [
        "from azure.ai.ml import MLClient\r\n",
        "from azure.identity import DefaultAzureCredential\r\n",
        "\r\n",
        "# get a handle to the workspace\r\n",
        "ml_client = MLClient(\r\n",
        "    DefaultAzureCredential(), subscription_id, resource_group, workspace\r\n",
        ")"
      ],
      "outputs": [],
      "execution_count": 2,
      "metadata": {
        "jupyter": {
          "source_hidden": false,
          "outputs_hidden": false
        },
        "nteract": {
          "transient": {
            "deleting": false
          }
        },
        "gather": {
          "logged": 1685904403007
        }
      }
    },
    {
      "cell_type": "code",
      "source": [
        "import os\r\n",
        "\r\n",
        "# create a folder for the script files\r\n",
        "script_folder = 'src'\r\n",
        "os.makedirs(script_folder, exist_ok=True)\r\n",
        "print(script_folder, 'folder created')"
      ],
      "outputs": [
        {
          "output_type": "stream",
          "name": "stdout",
          "text": "src folder created\n"
        }
      ],
      "execution_count": 3,
      "metadata": {
        "jupyter": {
          "source_hidden": false,
          "outputs_hidden": false
        },
        "nteract": {
          "transient": {
            "deleting": false
          }
        },
        "gather": {
          "logged": 1685904416281
        }
      }
    },
    {
      "cell_type": "code",
      "source": [
        "%%writefile $script_folder/train.py\r\n",
        "# import libraries\r\n",
        "import mlflow\r\n",
        "import argparse\r\n",
        "import pandas as pd\r\n",
        "import numpy as np\r\n",
        "from sklearn.model_selection import train_test_split\r\n",
        "from sklearn.linear_model import LogisticRegression\r\n",
        "from sklearn.metrics import roc_auc_score\r\n",
        "from sklearn.metrics import roc_curve\r\n",
        "import matplotlib.pyplot as plt\r\n",
        "\r\n",
        "def main(args):\r\n",
        "    # enable autologging\r\n",
        "    mlflow.autolog()\r\n",
        "\r\n",
        "    # read data\r\n",
        "    df = get_data(args.training_data)\r\n",
        "\r\n",
        "    # split data\r\n",
        "    X_train, X_test, y_train, y_test = split_data(df)\r\n",
        "\r\n",
        "    # train model\r\n",
        "    model = train_model(args.reg_rate, X_train, X_test, y_train, y_test)\r\n",
        "\r\n",
        "    # evaluate model\r\n",
        "    eval_model(model, X_test, y_test)\r\n",
        "\r\n",
        "# function that reads the data\r\n",
        "def get_data(path):\r\n",
        "    print(\"Reading data...\")\r\n",
        "    df = pd.read_csv(path)\r\n",
        "    \r\n",
        "    return df\r\n",
        "\r\n",
        "# function that splits the data\r\n",
        "def split_data(df):\r\n",
        "    print(\"Splitting data...\")\r\n",
        "\r\n",
        "    X, y =X, y = df.iloc[:,:80].values, df['Class'].values\r\n",
        "    X_train, X_test, y_train, y_test = train_test_split(X, y, test_size=0.30, random_state=0)\r\n",
        "\r\n",
        "    return X_train, X_test, y_train, y_test\r\n",
        "\r\n",
        "# function that trains the model\r\n",
        "def train_model(reg_rate, X_train, X_test, y_train, y_test):\r\n",
        "    mlflow.log_param(\"Regularization rate\", reg_rate)\r\n",
        "    print(\"Training model...\")\r\n",
        "    model = LogisticRegression(C=1/reg_rate, solver=\"liblinear\").fit(X_train, y_train)\r\n",
        "\r\n",
        "    return model\r\n",
        "\r\n",
        "# function that evaluates the model\r\n",
        "def eval_model(model, X_test, y_test):\r\n",
        "    # calculate accuracy\r\n",
        "    y_hat = model.predict(X_test)\r\n",
        "    acc = np.average(y_hat == y_test)\r\n",
        "    print('Accuracy:', acc)\r\n",
        "    mlflow.log_metric(\"Accuracy\", acc)\r\n",
        "\r\n",
        "    # calculate AUC\r\n",
        "    y_scores = model.predict_proba(X_test)\r\n",
        "    auc = roc_auc_score(y_test,y_scores[:,1])\r\n",
        "    print('AUC: ' + str(auc))\r\n",
        "    mlflow.log_metric(\"AUC\", auc)\r\n",
        "\r\n",
        "    # plot ROC curve\r\n",
        "    fpr, tpr, thresholds = roc_curve(y_test, y_scores[:,1])\r\n",
        "    fig = plt.figure(figsize=(6, 4))\r\n",
        "    # Plot the diagonal 50% line\r\n",
        "    plt.plot([0, 1], [0, 1], 'k--')\r\n",
        "    # Plot the FPR and TPR achieved by our model\r\n",
        "    plt.plot(fpr, tpr)\r\n",
        "    plt.xlabel('False Positive Rate')\r\n",
        "    plt.ylabel('True Positive Rate')\r\n",
        "    plt.title('ROC Curve')\r\n",
        "    plt.savefig(\"ROC-Curve.png\")\r\n",
        "    mlflow.log_artifact(\"ROC-Curve.png\")    \r\n",
        "\r\n",
        "def parse_args():\r\n",
        "    # setup arg parser\r\n",
        "    parser = argparse.ArgumentParser()\r\n",
        "\r\n",
        "    # add arguments\r\n",
        "    parser.add_argument(\"--training_data\", dest='training_data',\r\n",
        "                        type=str)\r\n",
        "    parser.add_argument(\"--reg_rate\", dest='reg_rate',\r\n",
        "                        type=float, default=0.01)\r\n",
        "\r\n",
        "    # parse args\r\n",
        "    args = parser.parse_args()\r\n",
        "\r\n",
        "    # return args\r\n",
        "    return args\r\n",
        "\r\n",
        "# run script\r\n",
        "if __name__ == \"__main__\":\r\n",
        "    # add space in logs\r\n",
        "    print(\"\\n\\n\")\r\n",
        "    print(\"*\" * 60)\r\n",
        "\r\n",
        "    # parse args\r\n",
        "    args = parse_args()\r\n",
        "\r\n",
        "    # run main function\r\n",
        "    main(args)\r\n",
        "\r\n",
        "    # add space in logs\r\n",
        "    print(\"*\" * 60)\r\n",
        "    print(\"\\n\\n\")\r\n"
      ],
      "outputs": [
        {
          "output_type": "stream",
          "name": "stdout",
          "text": "Writing src/train.py\n"
        }
      ],
      "execution_count": 4,
      "metadata": {
        "jupyter": {
          "source_hidden": false,
          "outputs_hidden": false
        },
        "nteract": {
          "transient": {
            "deleting": false
          }
        }
      }
    },
    {
      "cell_type": "code",
      "source": [
        "from azure.ai.ml import command, Input\r\n",
        "from azure.ai.ml.constants import AssetTypes\r\n",
        "\r\n",
        "# configure job\r\n",
        "\r\n",
        "job = command(\r\n",
        "    code=\"./src\",\r\n",
        "    command=\"python train.py --training_data ${{inputs.spacex_data}} --reg_rate ${{inputs.reg_rate}}\",\r\n",
        "    inputs={\r\n",
        "        \"spacex_data\": Input(\r\n",
        "            type=AssetTypes.URI_FILE, \r\n",
        "            path=\"azureml:spacex-model-data:1\" #Our data asset from earlier\r\n",
        "            ),\r\n",
        "        \"reg_rate\": 0.01,\r\n",
        "    },\r\n",
        "    environment=\"AzureML-sklearn-0.24-ubuntu18.04-py37-cpu@latest\",\r\n",
        "    compute=\"JamesCluster2\",\r\n",
        "    display_name=\"SpaceX-Model-Train-Mlflow\",\r\n",
        "    experiment_name=\"SpaceX-Model-Training\", \r\n",
        "    tags={\"model_type\": \"LogisticRegression\"}\r\n",
        "    )\r\n",
        "\r\n",
        "# submit job\r\n",
        "returned_job = ml_client.create_or_update(job)\r\n",
        "aml_url = returned_job.studio_url\r\n",
        "print(\"Monitor your job at\", aml_url)"
      ],
      "outputs": [],
      "execution_count": null,
      "metadata": {
        "jupyter": {
          "source_hidden": false,
          "outputs_hidden": false
        },
        "nteract": {
          "transient": {
            "deleting": false
          }
        },
        "gather": {
          "logged": 1685904653095
        }
      }
    },
    {
      "cell_type": "code",
      "source": [
        "#Setting up a sweepjob\r\n",
        "\r\n",
        "from azure.ai.ml.sweep import Choice\r\n",
        "\r\n",
        "command_job_for_sweep = job(\r\n",
        "    reg_rate=Choice(values=[0.01, 0.1, 1]),\r\n",
        ")"
      ],
      "outputs": [],
      "execution_count": 6,
      "metadata": {
        "jupyter": {
          "source_hidden": false,
          "outputs_hidden": false
        },
        "nteract": {
          "transient": {
            "deleting": false
          }
        },
        "gather": {
          "logged": 1685905066219
        }
      }
    },
    {
      "cell_type": "code",
      "source": [
        "# apply the sweep parameter to obtain the sweep_job\r\n",
        "sweep_job = command_job_for_sweep.sweep(\r\n",
        "    compute=\"JamesCluster2\",\r\n",
        "    sampling_algorithm=\"grid\",\r\n",
        "    primary_metric=\"training_accuracy_score\",\r\n",
        "    goal=\"Maximize\",\r\n",
        ")\r\n",
        "\r\n",
        "# set the name of the sweep job experiment\r\n",
        "sweep_job.experiment_name=\"Sweep-SpaceX\"\r\n",
        "\r\n",
        "# define the limits for this sweep\r\n",
        "sweep_job.set_limits(max_total_trials=4, max_concurrent_trials=2, timeout=7200)"
      ],
      "outputs": [],
      "execution_count": 7,
      "metadata": {
        "jupyter": {
          "source_hidden": false,
          "outputs_hidden": false
        },
        "nteract": {
          "transient": {
            "deleting": false
          }
        },
        "gather": {
          "logged": 1685905069440
        }
      }
    },
    {
      "cell_type": "code",
      "source": [
        "returned_sweep_job = ml_client.create_or_update(sweep_job)\r\n",
        "aml_url = returned_sweep_job.studio_url\r\n",
        "print(\"Monitor your job at\", aml_url)"
      ],
      "outputs": [],
      "execution_count": null,
      "metadata": {
        "jupyter": {
          "source_hidden": false,
          "outputs_hidden": false
        },
        "nteract": {
          "transient": {
            "deleting": false
          }
        },
        "gather": {
          "logged": 1685905076147
        }
      }
    }
  ],
  "metadata": {
    "kernelspec": {
      "name": "python38-azureml",
      "language": "python",
      "display_name": "Python 3.8 - AzureML"
    },
    "language_info": {
      "name": "python",
      "version": "3.8.5",
      "mimetype": "text/x-python",
      "codemirror_mode": {
        "name": "ipython",
        "version": 3
      },
      "pygments_lexer": "ipython3",
      "nbconvert_exporter": "python",
      "file_extension": ".py"
    },
    "microsoft": {
      "ms_spell_check": {
        "ms_spell_check_language": "en"
      },
      "host": {
        "AzureML": {
          "notebookHasBeenCompleted": true
        }
      }
    },
    "kernel_info": {
      "name": "python38-azureml"
    },
    "nteract": {
      "version": "nteract-front-end@1.0.0"
    }
  },
  "nbformat": 4,
  "nbformat_minor": 2
}