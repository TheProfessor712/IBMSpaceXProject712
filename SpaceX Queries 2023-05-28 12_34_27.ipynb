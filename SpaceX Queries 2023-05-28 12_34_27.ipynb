{
 "cells": [
  {
   "cell_type": "code",
   "execution_count": 0,
   "metadata": {
    "application/vnd.databricks.v1+cell": {
     "cellMetadata": {
      "byteLimit": 2048000,
      "rowLimit": 10000
     },
     "inputWidgets": {},
     "nuid": "47c565e0-9fc7-4df5-a2a9-b40d7a311888",
     "showTitle": false,
     "title": ""
    }
   },
   "outputs": [],
   "source": [
    "df = spark.read.table(\"`hive_metastore`.`spacex`.`spacex_table`\")\n"
   ]
  },
  {
   "cell_type": "code",
   "execution_count": 0,
   "metadata": {
    "application/vnd.databricks.v1+cell": {
     "cellMetadata": {
      "byteLimit": 2048000,
      "rowLimit": 10000
     },
     "inputWidgets": {},
     "nuid": "97111eb6-401c-4c78-beb3-c2286303cd2c",
     "showTitle": false,
     "title": ""
    }
   },
   "outputs": [
    {
     "output_type": "display_data",
     "data": {
      "text/html": [
       "<style scoped>\n",
       "  .table-result-container {\n",
       "    max-height: 300px;\n",
       "    overflow: auto;\n",
       "  }\n",
       "  table, th, td {\n",
       "    border: 1px solid black;\n",
       "    border-collapse: collapse;\n",
       "  }\n",
       "  th, td {\n",
       "    padding: 5px;\n",
       "  }\n",
       "  th {\n",
       "    text-align: left;\n",
       "  }\n",
       "</style><div class='table-result-container'><table class='table-result'><thead style='background-color: white'><tr><th>Date</th><th>Time (UTC)</th><th>Booster_Version</th><th>Launch_Site</th><th>Payload</th><th>PAYLOAD_MASS__KG_</th><th>Orbit</th><th>Customer</th><th>Mission_Outcome</th><th>Landing _Outcome</th></tr></thead><tbody><tr><td>2010-06-04</td><td>2023-05-28T18:45:00.000+0000</td><td>F9 v1.0  B0003</td><td>CCAFS LC-40</td><td>Dragon Spacecraft Qualification Unit</td><td>0</td><td>LEO</td><td>SpaceX</td><td>Success</td><td>Failure (parachute)</td></tr><tr><td>2010-12-08</td><td>2023-05-28T15:43:00.000+0000</td><td>F9 v1.0  B0004</td><td>CCAFS LC-40</td><td>Dragon demo flight C1, two CubeSats, barrel of Brouere cheese</td><td>0</td><td>LEO (ISS)</td><td>NASA (COTS) NRO</td><td>Success</td><td>Failure (parachute)</td></tr><tr><td>2012-05-22</td><td>2023-05-28T07:44:00.000+0000</td><td>F9 v1.0  B0005</td><td>CCAFS LC-40</td><td>Dragon demo flight C2</td><td>525</td><td>LEO (ISS)</td><td>NASA (COTS)</td><td>Success</td><td>No attempt</td></tr><tr><td>2012-10-08</td><td>2023-05-28T00:35:00.000+0000</td><td>F9 v1.0  B0006</td><td>CCAFS LC-40</td><td>SpaceX CRS-1</td><td>500</td><td>LEO (ISS)</td><td>NASA (CRS)</td><td>Success</td><td>No attempt</td></tr><tr><td>2013-03-01</td><td>2023-05-28T15:10:00.000+0000</td><td>F9 v1.0  B0007</td><td>CCAFS LC-40</td><td>SpaceX CRS-2</td><td>677</td><td>LEO (ISS)</td><td>NASA (CRS)</td><td>Success</td><td>No attempt</td></tr><tr><td>2013-09-29</td><td>2023-05-28T16:00:00.000+0000</td><td>F9 v1.1  B1003</td><td>VAFB SLC-4E</td><td>CASSIOPE</td><td>500</td><td>Polar LEO</td><td>MDA</td><td>Success</td><td>Uncontrolled (ocean)</td></tr><tr><td>2013-12-03</td><td>2023-05-28T22:41:00.000+0000</td><td>F9 v1.1</td><td>CCAFS LC-40</td><td>SES-8</td><td>3170</td><td>GTO</td><td>SES</td><td>Success</td><td>No attempt</td></tr><tr><td>2014-01-06</td><td>2023-05-28T22:06:00.000+0000</td><td>F9 v1.1</td><td>CCAFS LC-40</td><td>Thaicom 6</td><td>3325</td><td>GTO</td><td>Thaicom</td><td>Success</td><td>No attempt</td></tr><tr><td>2014-04-18</td><td>2023-05-28T19:25:00.000+0000</td><td>F9 v1.1</td><td>CCAFS LC-40</td><td>SpaceX CRS-3</td><td>2296</td><td>LEO (ISS)</td><td>NASA (CRS)</td><td>Success</td><td>Controlled (ocean)</td></tr><tr><td>2014-07-14</td><td>2023-05-28T15:15:00.000+0000</td><td>F9 v1.1</td><td>CCAFS LC-40</td><td>OG2 Mission 1  6 Orbcomm-OG2 satellites</td><td>1316</td><td>LEO</td><td>Orbcomm</td><td>Success</td><td>Controlled (ocean)</td></tr><tr><td>2014-08-05</td><td>2023-05-28T08:00:00.000+0000</td><td>F9 v1.1</td><td>CCAFS LC-40</td><td>AsiaSat 8</td><td>4535</td><td>GTO</td><td>AsiaSat</td><td>Success</td><td>No attempt</td></tr><tr><td>2014-09-07</td><td>2023-05-28T05:00:00.000+0000</td><td>F9 v1.1 B1011</td><td>CCAFS LC-40</td><td>AsiaSat 6</td><td>4428</td><td>GTO</td><td>AsiaSat</td><td>Success</td><td>No attempt</td></tr><tr><td>2014-09-21</td><td>2023-05-28T05:52:00.000+0000</td><td>F9 v1.1 B1010</td><td>CCAFS LC-40</td><td>SpaceX CRS-4</td><td>2216</td><td>LEO (ISS)</td><td>NASA (CRS)</td><td>Success</td><td>Uncontrolled (ocean)</td></tr><tr><td>2015-01-10</td><td>2023-05-28T09:47:00.000+0000</td><td>F9 v1.1 B1012</td><td>CCAFS LC-40</td><td>SpaceX CRS-5</td><td>2395</td><td>LEO (ISS)</td><td>NASA (CRS)</td><td>Success</td><td>Failure (drone ship)</td></tr><tr><td>2015-02-11</td><td>2023-05-28T23:03:00.000+0000</td><td>F9 v1.1 B1013</td><td>CCAFS LC-40</td><td>DSCOVR</td><td>570</td><td>HEO</td><td>U.S. Air Force NASA NOAA</td><td>Success</td><td>Controlled (ocean)</td></tr><tr><td>2015-03-02</td><td>2023-05-28T03:50:00.000+0000</td><td>F9 v1.1 B1014</td><td>CCAFS LC-40</td><td>ABS-3A Eutelsat 115 West B</td><td>4159</td><td>GTO</td><td>ABS Eutelsat</td><td>Success</td><td>No attempt</td></tr><tr><td>2015-04-14</td><td>2023-05-28T20:10:00.000+0000</td><td>F9 v1.1 B1015</td><td>CCAFS LC-40</td><td>SpaceX CRS-6</td><td>1898</td><td>LEO (ISS)</td><td>NASA (CRS)</td><td>Success</td><td>Failure (drone ship)</td></tr><tr><td>2015-04-27</td><td>2023-05-28T23:03:00.000+0000</td><td>F9 v1.1 B1016</td><td>CCAFS LC-40</td><td>Turkmen 52 / MonacoSAT</td><td>4707</td><td>GTO</td><td>Turkmenistan National Space Agency</td><td>Success</td><td>No attempt</td></tr><tr><td>2015-06-28</td><td>2023-05-28T14:21:00.000+0000</td><td>F9 v1.1 B1018</td><td>CCAFS LC-40</td><td>SpaceX CRS-7</td><td>1952</td><td>LEO (ISS)</td><td>NASA (CRS)</td><td>Failure (in flight)</td><td>Precluded (drone ship)</td></tr><tr><td>2015-12-22</td><td>2023-05-28T01:29:00.000+0000</td><td>F9 FT B1019</td><td>CCAFS LC-40</td><td>OG2 Mission 2  11 Orbcomm-OG2 satellites</td><td>2034</td><td>LEO</td><td>Orbcomm</td><td>Success</td><td>Success (ground pad)</td></tr><tr><td>2016-01-17</td><td>2023-05-28T18:42:00.000+0000</td><td>F9 v1.1 B1017</td><td>VAFB SLC-4E</td><td>Jason-3</td><td>553</td><td>LEO</td><td>NASA (LSP) NOAA CNES</td><td>Success</td><td>Failure (drone ship)</td></tr><tr><td>2016-03-04</td><td>2023-05-28T23:35:00.000+0000</td><td>F9 FT B1020</td><td>CCAFS LC-40</td><td>SES-9</td><td>5271</td><td>GTO</td><td>SES</td><td>Success</td><td>Failure (drone ship)</td></tr><tr><td>2016-04-08</td><td>2023-05-28T20:43:00.000+0000</td><td>F9 FT B1021.1</td><td>CCAFS LC-40</td><td>SpaceX CRS-8</td><td>3136</td><td>LEO (ISS)</td><td>NASA (CRS)</td><td>Success</td><td>Success (drone ship)</td></tr><tr><td>2016-05-06</td><td>2023-05-28T05:21:00.000+0000</td><td>F9 FT B1022</td><td>CCAFS LC-40</td><td>JCSAT-14</td><td>4696</td><td>GTO</td><td>SKY Perfect JSAT Group</td><td>Success</td><td>Success (drone ship)</td></tr><tr><td>2016-05-27</td><td>2023-05-28T21:39:00.000+0000</td><td>F9 FT B1023.1</td><td>CCAFS LC-40</td><td>Thaicom 8</td><td>3100</td><td>GTO</td><td>Thaicom</td><td>Success</td><td>Success (drone ship)</td></tr><tr><td>2016-06-15</td><td>2023-05-28T14:29:00.000+0000</td><td>F9 FT B1024</td><td>CCAFS LC-40</td><td>ABS-2A Eutelsat 117 West B</td><td>3600</td><td>GTO</td><td>ABS Eutelsat</td><td>Success</td><td>Failure (drone ship)</td></tr><tr><td>2016-07-18</td><td>2023-05-28T04:45:00.000+0000</td><td>F9 FT B1025.1</td><td>CCAFS LC-40</td><td>SpaceX CRS-9</td><td>2257</td><td>LEO (ISS)</td><td>NASA (CRS)</td><td>Success</td><td>Success (ground pad)</td></tr><tr><td>2016-08-14</td><td>2023-05-28T05:26:00.000+0000</td><td>F9 FT B1026</td><td>CCAFS LC-40</td><td>JCSAT-16</td><td>4600</td><td>GTO</td><td>SKY Perfect JSAT Group</td><td>Success</td><td>Success (drone ship)</td></tr><tr><td>2017-01-14</td><td>2023-05-28T17:54:00.000+0000</td><td>F9 FT B1029.1</td><td>VAFB SLC-4E</td><td>Iridium NEXT 1</td><td>9600</td><td>Polar LEO</td><td>Iridium Communications</td><td>Success</td><td>Success (drone ship)</td></tr><tr><td>2017-02-19</td><td>2023-05-28T14:39:00.000+0000</td><td>F9 FT B1031.1</td><td>KSC LC-39A</td><td>SpaceX CRS-10</td><td>2490</td><td>LEO (ISS)</td><td>NASA (CRS)</td><td>Success</td><td>Success (ground pad)</td></tr><tr><td>2017-03-16</td><td>2023-05-28T06:00:00.000+0000</td><td>F9 FT B1030</td><td>KSC LC-39A</td><td>EchoStar 23</td><td>5600</td><td>GTO</td><td>EchoStar</td><td>Success</td><td>No attempt</td></tr><tr><td>2017-03-30</td><td>2023-05-28T22:27:00.000+0000</td><td>F9 FT  B1021.2</td><td>KSC LC-39A</td><td>SES-10</td><td>5300</td><td>GTO</td><td>SES</td><td>Success</td><td>Success (drone ship)</td></tr><tr><td>2017-05-01</td><td>2023-05-28T11:15:00.000+0000</td><td>F9 FT B1032.1</td><td>KSC LC-39A</td><td>NROL-76</td><td>5300</td><td>LEO</td><td>NRO</td><td>Success</td><td>Success (ground pad)</td></tr><tr><td>2017-05-15</td><td>2023-05-28T23:21:00.000+0000</td><td>F9 FT B1034</td><td>KSC LC-39A</td><td>Inmarsat-5 F4</td><td>6070</td><td>GTO</td><td>Inmarsat</td><td>Success</td><td>No attempt</td></tr><tr><td>2017-06-03</td><td>2023-05-28T21:07:00.000+0000</td><td>F9 FT B1035.1</td><td>KSC LC-39A</td><td>SpaceX CRS-11</td><td>2708</td><td>LEO (ISS)</td><td>NASA (CRS)</td><td>Success</td><td>Success (ground pad)</td></tr><tr><td>2017-06-23</td><td>2023-05-28T19:10:00.000+0000</td><td>F9 FT  B1029.2</td><td>KSC LC-39A</td><td>BulgariaSat-1</td><td>3669</td><td>GTO</td><td>Bulsatcom</td><td>Success</td><td>Success (drone ship)</td></tr><tr><td>2017-06-25</td><td>2023-05-28T20:25:00.000+0000</td><td>F9 FT B1036.1</td><td>VAFB SLC-4E</td><td>Iridium NEXT 2</td><td>9600</td><td>LEO</td><td>Iridium Communications</td><td>Success</td><td>Success (drone ship)</td></tr><tr><td>2017-07-05</td><td>2023-05-28T23:38:00.000+0000</td><td>F9 FT B1037</td><td>KSC LC-39A</td><td>Intelsat 35e</td><td>6761</td><td>GTO</td><td>Intelsat</td><td>Success</td><td>No attempt</td></tr><tr><td>2017-08-14</td><td>2023-05-28T16:31:00.000+0000</td><td>F9 B4 B1039.1</td><td>KSC LC-39A</td><td>SpaceX CRS-12</td><td>3310</td><td>LEO (ISS)</td><td>NASA (CRS)</td><td>Success</td><td>Success (ground pad)</td></tr><tr><td>2017-08-24</td><td>2023-05-28T18:51:00.000+0000</td><td>F9 FT B1038.1</td><td>VAFB SLC-4E</td><td>Formosat-5</td><td>475</td><td>SSO</td><td>NSPO</td><td>Success</td><td>Success (drone ship)</td></tr><tr><td>2017-09-07</td><td>2023-05-28T14:00:00.000+0000</td><td>F9 B4 B1040.1</td><td>KSC LC-39A</td><td>Boeing X-37B OTV-5</td><td>4990</td><td>LEO</td><td>U.S. Air Force</td><td>Success</td><td>Success (ground pad)</td></tr><tr><td>2017-10-09</td><td>2023-05-28T12:37:00.000+0000</td><td>F9 B4 B1041.1</td><td>VAFB SLC-4E</td><td>Iridium NEXT 3</td><td>9600</td><td>Polar LEO</td><td>Iridium Communications</td><td>Success</td><td>Success (drone ship)</td></tr><tr><td>2017-10-11</td><td>2023-05-28T22:53:00.000+0000</td><td>F9 FT  B1031.2</td><td>KSC LC-39A</td><td>SES-11 / EchoStar 105</td><td>5200</td><td>GTO</td><td>SES EchoStar</td><td>Success</td><td>Success (drone ship)</td></tr><tr><td>2017-10-30</td><td>2023-05-28T19:34:00.000+0000</td><td>F9 B4 B1042.1</td><td>KSC LC-39A</td><td>Koreasat 5A</td><td>3500</td><td>GTO</td><td>KT Corporation</td><td>Success</td><td>Success (drone ship)</td></tr><tr><td>2017-12-15</td><td>2023-05-28T15:36:00.000+0000</td><td>F9 FT  B1035.2</td><td>CCAFS SLC-40</td><td>SpaceX CRS-13</td><td>2205</td><td>LEO (ISS)</td><td>NASA (CRS)</td><td>Success</td><td>Success (ground pad)</td></tr><tr><td>2017-12-23</td><td>2023-05-28T01:27:00.000+0000</td><td>F9 FT  B1036.2</td><td>VAFB SLC-4E</td><td>Iridium NEXT 4</td><td>9600</td><td>Polar LEO</td><td>Iridium Communications</td><td>Success</td><td>Controlled (ocean)</td></tr><tr><td>2018-01-08</td><td>2023-05-28T01:00:00.000+0000</td><td>F9 B4 B1043.1</td><td>CCAFS SLC-40</td><td>Zuma</td><td>5000</td><td>LEO</td><td>Northrop Grumman</td><td>Success (payload status unclear)</td><td>Success (ground pad)</td></tr><tr><td>2018-01-31</td><td>2023-05-28T21:25:00.000+0000</td><td>F9 FT  B1032.2</td><td>CCAFS SLC-40</td><td>GovSat-1 / SES-16</td><td>4230</td><td>GTO</td><td>SES</td><td>Success</td><td>Controlled (ocean)</td></tr><tr><td>2018-02-22</td><td>2023-05-28T14:17:00.000+0000</td><td>F9 FT  B1038.2</td><td>VAFB SLC-4E</td><td>Paz  Tintin A & B</td><td>2150</td><td>SSO</td><td>Hisdesat exactEarth SpaceX</td><td>Success</td><td>No attempt</td></tr><tr><td>2018-03-06</td><td>2023-05-28T05:33:00.000+0000</td><td>F9 B4 B1044</td><td>CCAFS SLC-40</td><td>Hispasat 30W-6  PODSat</td><td>6092</td><td>GTO</td><td>Hispasat  NovaWurks</td><td>Success</td><td>No attempt</td></tr><tr><td>2018-03-30</td><td>2023-05-28T14:14:00.000+0000</td><td>F9 B4  B1041.2</td><td>VAFB SLC-4E</td><td>Iridium NEXT 5</td><td>9600</td><td>Polar LEO</td><td>Iridium Communications</td><td>Success</td><td>No attempt</td></tr><tr><td>2018-04-02</td><td>2023-05-28T20:30:00.000+0000</td><td>F9 B4  B1039.2</td><td>CCAFS SLC-40</td><td>SpaceX CRS-14</td><td>2647</td><td>LEO (ISS)</td><td>NASA (CRS)</td><td>Success</td><td>No attempt</td></tr><tr><td>2018-04-18</td><td>2023-05-28T22:51:00.000+0000</td><td>F9 B4 B1045.1</td><td>CCAFS SLC-40</td><td>Transiting Exoplanet Survey Satellite (TESS)</td><td>362</td><td>HEO</td><td>NASA (LSP)</td><td>Success</td><td>Success (drone ship)</td></tr><tr><td>2018-05-11</td><td>2023-05-28T20:14:00.000+0000</td><td>F9 B5  B1046.1</td><td>KSC LC-39A</td><td>Bangabandhu-1</td><td>3600</td><td>GTO</td><td>Thales-Alenia/BTRC</td><td>Success</td><td>Success (drone ship)</td></tr><tr><td>2018-05-22</td><td>2023-05-28T19:47:58.000+0000</td><td>F9 B4  B1043.2</td><td>VAFB SLC-4E</td><td>Iridium NEXT 6   GRACE-FO 1, 2</td><td>6460</td><td>Polar LEO</td><td>Iridium Communications GFZ ‚ NASA</td><td>Success</td><td>No attempt</td></tr><tr><td>2018-06-04</td><td>2023-05-28T04:45:00.000+0000</td><td>F9 B4  B1040.2</td><td>CCAFS SLC-40</td><td>SES-12</td><td>5384</td><td>GTO</td><td>SES</td><td>Success</td><td>No attempt</td></tr><tr><td>2018-06-29</td><td>2023-05-28T09:42:00.000+0000</td><td>F9 B4 B1045.2</td><td>CCAFS SLC-40</td><td>SpaceX CRS-15</td><td>2697</td><td>LEO (ISS)</td><td>NASA (CRS)</td><td>Success</td><td>No attempt</td></tr><tr><td>2018-07-22</td><td>2023-05-28T05:50:00.000+0000</td><td>F9 B5B1047.1</td><td>CCAFS SLC-40</td><td>Telstar 19V</td><td>7075</td><td>GTO</td><td>Telesat</td><td>Success</td><td>Success</td></tr><tr><td>2018-07-25</td><td>2023-05-28T11:39:00.000+0000</td><td>F9 B5B1048.1</td><td>VAFB SLC-4E</td><td>Iridium NEXT-7</td><td>9600</td><td>Polar LEO</td><td>Iridium Communications</td><td>Success</td><td>Success</td></tr><tr><td>2018-08-07</td><td>2023-05-28T05:18:00.000+0000</td><td>F9 B5 B1046.2</td><td>CCAFS SLC-40</td><td>Merah Putih </td><td>5800</td><td>GTO</td><td>Telkom Indonesia</td><td>Success</td><td>Success</td></tr><tr><td>2018-09-10</td><td>2023-05-28T04:45:00.000+0000</td><td>F9 B5B1049.1</td><td>CCAFS SLC-40</td><td>Telstar 18V / Apstar-5C</td><td>7060</td><td>GTO</td><td>Telesat</td><td>Success</td><td>Success</td></tr><tr><td>2018-10-08</td><td>2023-05-28T02:22:00.000+0000</td><td>F9 B5 B1048.2</td><td>VAFB SLC-4E</td><td>SAOCOM 1A</td><td>3000</td><td>SSO</td><td>CONAE</td><td>Success</td><td>Success</td></tr><tr><td>2018-11-15</td><td>2023-05-28T20:46:00.000+0000</td><td>F9 B5 B1047.2</td><td>KSC LC-39A</td><td>Es hail 2</td><td>5300</td><td>GTO</td><td>Es hailSat</td><td>Success</td><td>Success</td></tr><tr><td>2018-12-03</td><td>2023-05-28T18:34:05.000+0000</td><td>F9 B5 B1046.3</td><td>VAFB SLC-4E</td><td>SSO-A </td><td>4000</td><td>SSO</td><td>Spaceflight Industries</td><td>Success</td><td>Success</td></tr><tr><td>2018-12-05</td><td>2023-05-28T18:16:00.000+0000</td><td>F9 B5B1050</td><td>CCAFS SLC-40</td><td>SpaceX CRS-16</td><td>2500</td><td>LEO (ISS)</td><td>NASA (CRS)</td><td>Success</td><td>Failure</td></tr><tr><td>2018-12-23</td><td>2023-05-28T13:51:00.000+0000</td><td>F9 B5B1054</td><td>CCAFS SLC-40</td><td>GPS III-01 </td><td>4400</td><td>MEO</td><td>USAF</td><td>Success </td><td>No attempt</td></tr><tr><td>2019-01-11</td><td>2023-05-28T15:31:00.000+0000</td><td>F9 B5 B1049.2</td><td>VAFB SLC-4E</td><td>Iridium NEXT-8</td><td>9600</td><td>Polar LEO</td><td>Iridium Communications</td><td>Success</td><td>Success</td></tr><tr><td>2019-02-22</td><td>2023-05-28T01:45:00.000+0000</td><td>F9 B5 B1048.3</td><td>CCAFS SLC-40</td><td>Nusantara Satu, Beresheet Moon lander, S5</td><td>4850</td><td>GTO</td><td>PSN, SpaceIL / IAI</td><td>Success</td><td>Success</td></tr><tr><td>2019-03-02</td><td>2023-05-28T07:49:00.000+0000</td><td>F9 B5B1051.1</td><td>KSC LC-39A</td><td>Crew Dragon Demo-1, SpaceX CRS-17 </td><td>12055</td><td>LEO (ISS)</td><td>NASA (CCD) </td><td>Success</td><td>Success</td></tr><tr><td>2019-05-04</td><td>2023-05-28T06:48:00.000+0000</td><td>F9 B5B1056.1 </td><td>CCAFS SLC-40</td><td>SpaceX CRS-17, Starlink v0.9</td><td>2495</td><td>LEO (ISS)</td><td>NASA (CRS)</td><td>Success</td><td>Success</td></tr><tr><td>2019-05-24</td><td>2023-05-28T02:30:00.000+0000</td><td>F9 B5 B1049.3</td><td>CCAFS SLC-40</td><td>Starlink v0.9, RADARSAT Constellation</td><td>13620</td><td>LEO</td><td>SpaceX</td><td>Success</td><td>Success</td></tr><tr><td>2019-06-12</td><td>2023-05-28T14:17:00.000+0000</td><td>F9 B5 B1051.2 </td><td>VAFB SLC-4E</td><td>RADARSAT Constellation, SpaceX CRS-18 </td><td>4200</td><td>SSO</td><td>Canadian Space Agency (CSA)</td><td>Success</td><td>Success</td></tr><tr><td>2019-07-25</td><td>2023-05-28T22:01:00.000+0000</td><td>F9 B5 B1056.2 </td><td>CCAFS SLC-40</td><td>SpaceX CRS-18, AMOS-17 </td><td>2268</td><td>LEO (ISS)</td><td>NASA (CRS)</td><td>Success</td><td>Success</td></tr><tr><td>2019-08-06</td><td>2023-05-28T23:23:00.000+0000</td><td>F9 B5 B1047.3 </td><td>CCAFS SLC-40</td><td>AMOS-17, Starlink 1 v1.0 </td><td>6500</td><td>GTO</td><td>Spacecom</td><td>Success</td><td>No attempt </td></tr><tr><td>2019-11-11</td><td>2023-05-28T14:56:00.000+0000</td><td>F9 B5 B1048.4</td><td>CCAFS SLC-40</td><td>Starlink 1 v1.0, SpaceX CRS-19 </td><td>15600</td><td>LEO</td><td>SpaceX</td><td>Success</td><td>Success</td></tr><tr><td>2019-12-05</td><td>2023-05-28T17:29:00.000+0000</td><td>F9 B5B1059.1</td><td>CCAFS SLC-40</td><td>SpaceX CRS-19, JCSat-18 / Kacific 1 </td><td>2617</td><td>LEO (ISS)</td><td>NASA (CRS), Kacific 1</td><td>Success</td><td>Success</td></tr><tr><td>2019-12-17</td><td>2023-05-28T00:10:00.000+0000</td><td>F9 B5 B1056.3 </td><td>CCAFS SLC-40</td><td>JCSat-18 / Kacific 1, Starlink 2 v1.0 </td><td>6956</td><td>GTO</td><td>Sky Perfect JSAT, Kacific 1</td><td>Success</td><td>Success</td></tr><tr><td>2020-01-07</td><td>2023-05-28T02:33:00.000+0000</td><td>F9 B5 B1049.4</td><td>CCAFS SLC-40</td><td>Starlink 2 v1.0, Crew Dragon in-flight abort test </td><td>15600</td><td>LEO</td><td>SpaceX</td><td>Success</td><td>Success</td></tr><tr><td>2020-01-19</td><td>2023-05-28T15:30:00.000+0000</td><td>F9 B5 B1046.4</td><td>KSC LC-39A</td><td>Crew Dragon in-flight abort test, Starlink 3 v1.0 </td><td>12050</td><td>Sub-orbital</td><td>NASA (CTS)</td><td>Success</td><td>No attempt</td></tr><tr><td>2020-01-29</td><td>2023-05-28T14:07:00.000+0000</td><td>F9 B5 B1051.3</td><td>CCAFS SLC-40</td><td>Starlink 3 v1.0, Starlink 4 v1.0 </td><td>15600</td><td>LEO</td><td>SpaceX</td><td>Success</td><td>Success</td></tr><tr><td>2020-02-17</td><td>2023-05-28T15:05:00.000+0000</td><td>F9 B5 B1056.4</td><td>CCAFS SLC-40</td><td>Starlink 4 v1.0, SpaceX CRS-20</td><td>15600</td><td>LEO</td><td>SpaceX</td><td>Success</td><td>Failure</td></tr><tr><td>2020-03-07</td><td>2023-05-28T04:50:00.000+0000</td><td>F9 B5 B1059.2</td><td>CCAFS SLC-40</td><td>SpaceX CRS-20, Starlink 5 v1.0 </td><td>1977</td><td>LEO (ISS)</td><td>NASA (CRS)</td><td>Success</td><td>Success</td></tr><tr><td>2020-03-18</td><td>2023-05-28T12:16:00.000+0000</td><td>F9 B5 B1048.5</td><td>KSC LC-39A</td><td>Starlink 5 v1.0, Starlink 6 v1.0 </td><td>15600</td><td>LEO</td><td>SpaceX</td><td>Success</td><td>Failure</td></tr><tr><td>2020-04-22</td><td>2023-05-28T19:30:00.000+0000</td><td>F9 B5 B1051.4</td><td>KSC LC-39A</td><td>Starlink 6 v1.0, Crew Dragon Demo-2 </td><td>15600</td><td>LEO</td><td>SpaceX</td><td>Success</td><td>Success</td></tr><tr><td>2020-05-30</td><td>2023-05-28T19:22:00.000+0000</td><td>F9 B5B1058.1 </td><td>KSC LC-39A</td><td>Crew Dragon Demo-2, Starlink 7 v1.0 </td><td>12530</td><td>LEO (ISS)</td><td>NASA (CCDev)</td><td>Success</td><td>Success</td></tr><tr><td>2020-06-04</td><td>2023-05-28T01:25:00.000+0000</td><td>F9 B5 B1049.5</td><td>CCAFS SLC-40</td><td>Starlink 7 v1.0, Starlink 8 v1.0</td><td>15600</td><td>LEO</td><td>SpaceX, Planet Labs</td><td>Success</td><td>Success</td></tr><tr><td>2020-06-13</td><td>2023-05-28T09:21:00.000+0000</td><td>F9 B5 B1059.3</td><td>CCAFS SLC-40</td><td>Starlink 8 v1.0, SkySats-16, -17, -18, GPS III-03 </td><td>15410</td><td>LEO</td><td>SpaceX, Planet Labs</td><td>Success</td><td>Success</td></tr><tr><td>2020-06-30</td><td>2023-05-28T20:10:46.000+0000</td><td>F9 B5B1060.1</td><td>CCAFS SLC-40</td><td>GPS III-03, ANASIS-II</td><td>4311</td><td>MEO</td><td>U.S. Space Force</td><td>Success</td><td>Success</td></tr><tr><td>2020-07-20</td><td>2023-05-28T21:30:00.000+0000</td><td>F9 B5 B1058.2 </td><td>CCAFS SLC-40</td><td>ANASIS-II, Starlink 9 v1.0</td><td>5500</td><td>GTO</td><td>Republic of Korea Army, Spaceflight Industries (BlackSky)</td><td>Success</td><td>Success</td></tr><tr><td>2020-08-07</td><td>2023-05-28T05:12:00.000+0000</td><td>F9 B5 B1051.5</td><td>KSC LC-39A</td><td>Starlink 9 v1.0, SXRS-1, Starlink 10 v1.0 </td><td>14932</td><td>LEO</td><td>SpaceX, Spaceflight Industries (BlackSky), Planet Labs</td><td>Success</td><td>Success</td></tr><tr><td>2020-08-18</td><td>2023-05-28T14:31:00.000+0000</td><td>F9 B5 B1049.6</td><td>CCAFS SLC-40</td><td>Starlink 10 v1.0, SkySat-19, -20, -21, SAOCOM 1B </td><td>15440</td><td>LEO</td><td>SpaceX, Planet Labs, PlanetIQ</td><td>Success</td><td>Success</td></tr><tr><td>2020-08-30</td><td>2023-05-28T23:18:00.000+0000</td><td>F9 B5 B1059.4</td><td>CCAFS SLC-40</td><td>SAOCOM 1B, GNOMES 1, Tyvak-0172</td><td>3130</td><td>SSO</td><td>CONAE, PlanetIQ, SpaceX</td><td>Success</td><td>Success</td></tr><tr><td>2020-09-03</td><td>2023-05-28T12:46:14.000+0000</td><td>F9 B5 B1060.2 </td><td>KSC LC-39A</td><td>Starlink 11 v1.0, Starlink 12 v1.0 </td><td>15600</td><td>LEO</td><td>SpaceX</td><td>Success</td><td>Success</td></tr><tr><td>2020-10-06</td><td>2023-05-28T11:29:34.000+0000</td><td>F9 B5 B1058.3 </td><td>KSC LC-39A</td><td>Starlink 12 v1.0, Starlink 13 v1.0 </td><td>15600</td><td>LEO</td><td>SpaceX</td><td>Success</td><td>Success</td></tr><tr><td>2020-10-18</td><td>2023-05-28T12:25:57.000+0000</td><td>F9 B5 B1051.6</td><td>KSC LC-39A</td><td>Starlink 13 v1.0, Starlink 14 v1.0 </td><td>15600</td><td>LEO</td><td>SpaceX</td><td>Success</td><td>Success</td></tr><tr><td>2020-10-24</td><td>2023-05-28T15:31:34.000+0000</td><td>F9 B5 B1060.3</td><td>CCAFS SLC-40</td><td>Starlink 14 v1.0, GPS III-04  </td><td>15600</td><td>LEO</td><td>SpaceX</td><td>Success</td><td>Success</td></tr><tr><td>2020-11-05</td><td>2023-05-28T23:24:23.000+0000</td><td>F9 B5B1062.1</td><td>CCAFS SLC-40</td><td>GPS III-04 , Crew-1</td><td>4311</td><td>MEO</td><td>USSF</td><td>Success</td><td>Success</td></tr><tr><td>2020-11-16</td><td>2023-05-28T00:27:00.000+0000</td><td>F9 B5B1061.1 </td><td>KSC LC-39A</td><td>Crew-1, Sentinel-6 Michael Freilich </td><td>12500</td><td>LEO (ISS)</td><td>NASA (CCP)</td><td>Success</td><td>Success</td></tr><tr><td>2020-11-21</td><td>2023-05-28T17:17:08.000+0000</td><td>F9 B5B1063.1</td><td>VAFB SLC-4E</td><td>Sentinel-6 Michael Freilich, Starlink 15 v1.0 </td><td>1192</td><td>LEO</td><td>NASA / NOAA / ESA / EUMETSAT</td><td>Success</td><td>Success</td></tr><tr><td>2020-11-25</td><td>2023-05-28T02:13:00.000+0000</td><td>F9 B5 B1049.7 </td><td>CCAFS SLC-40</td><td>Starlink 15 v1.0, SpaceX CRS-21</td><td>15600</td><td>LEO</td><td>SpaceX</td><td>Success</td><td>Success</td></tr><tr><td>2020-12-06</td><td>2023-05-28T16:17:08.000+0000</td><td>F9 B5 B1058.4 </td><td>KSC LC-39A</td><td>SpaceX CRS-21</td><td>2972</td><td>LEO (ISS)</td><td>NASA (CRS)</td><td>Success</td><td>Success</td></tr></tbody></table></div>"
      ]
     },
     "metadata": {
      "application/vnd.databricks.v1+output": {
       "addedWidgets": {},
       "aggData": [],
       "aggError": "",
       "aggOverflow": false,
       "aggSchema": [],
       "aggSeriesLimitReached": false,
       "aggType": "",
       "arguments": {},
       "columnCustomDisplayInfos": {},
       "data": [
        [
         "2010-06-04",
         "2023-05-28T18:45:00.000+0000",
         "F9 v1.0  B0003",
         "CCAFS LC-40",
         "Dragon Spacecraft Qualification Unit",
         0,
         "LEO",
         "SpaceX",
         "Success",
         "Failure (parachute)"
        ],
        [
         "2010-12-08",
         "2023-05-28T15:43:00.000+0000",
         "F9 v1.0  B0004",
         "CCAFS LC-40",
         "Dragon demo flight C1, two CubeSats, barrel of Brouere cheese",
         0,
         "LEO (ISS)",
         "NASA (COTS) NRO",
         "Success",
         "Failure (parachute)"
        ],
        [
         "2012-05-22",
         "2023-05-28T07:44:00.000+0000",
         "F9 v1.0  B0005",
         "CCAFS LC-40",
         "Dragon demo flight C2",
         525,
         "LEO (ISS)",
         "NASA (COTS)",
         "Success",
         "No attempt"
        ],
        [
         "2012-10-08",
         "2023-05-28T00:35:00.000+0000",
         "F9 v1.0  B0006",
         "CCAFS LC-40",
         "SpaceX CRS-1",
         500,
         "LEO (ISS)",
         "NASA (CRS)",
         "Success",
         "No attempt"
        ],
        [
         "2013-03-01",
         "2023-05-28T15:10:00.000+0000",
         "F9 v1.0  B0007",
         "CCAFS LC-40",
         "SpaceX CRS-2",
         677,
         "LEO (ISS)",
         "NASA (CRS)",
         "Success",
         "No attempt"
        ],
        [
         "2013-09-29",
         "2023-05-28T16:00:00.000+0000",
         "F9 v1.1  B1003",
         "VAFB SLC-4E",
         "CASSIOPE",
         500,
         "Polar LEO",
         "MDA",
         "Success",
         "Uncontrolled (ocean)"
        ],
        [
         "2013-12-03",
         "2023-05-28T22:41:00.000+0000",
         "F9 v1.1",
         "CCAFS LC-40",
         "SES-8",
         3170,
         "GTO",
         "SES",
         "Success",
         "No attempt"
        ],
        [
         "2014-01-06",
         "2023-05-28T22:06:00.000+0000",
         "F9 v1.1",
         "CCAFS LC-40",
         "Thaicom 6",
         3325,
         "GTO",
         "Thaicom",
         "Success",
         "No attempt"
        ],
        [
         "2014-04-18",
         "2023-05-28T19:25:00.000+0000",
         "F9 v1.1",
         "CCAFS LC-40",
         "SpaceX CRS-3",
         2296,
         "LEO (ISS)",
         "NASA (CRS)",
         "Success",
         "Controlled (ocean)"
        ],
        [
         "2014-07-14",
         "2023-05-28T15:15:00.000+0000",
         "F9 v1.1",
         "CCAFS LC-40",
         "OG2 Mission 1  6 Orbcomm-OG2 satellites",
         1316,
         "LEO",
         "Orbcomm",
         "Success",
         "Controlled (ocean)"
        ],
        [
         "2014-08-05",
         "2023-05-28T08:00:00.000+0000",
         "F9 v1.1",
         "CCAFS LC-40",
         "AsiaSat 8",
         4535,
         "GTO",
         "AsiaSat",
         "Success",
         "No attempt"
        ],
        [
         "2014-09-07",
         "2023-05-28T05:00:00.000+0000",
         "F9 v1.1 B1011",
         "CCAFS LC-40",
         "AsiaSat 6",
         4428,
         "GTO",
         "AsiaSat",
         "Success",
         "No attempt"
        ],
        [
         "2014-09-21",
         "2023-05-28T05:52:00.000+0000",
         "F9 v1.1 B1010",
         "CCAFS LC-40",
         "SpaceX CRS-4",
         2216,
         "LEO (ISS)",
         "NASA (CRS)",
         "Success",
         "Uncontrolled (ocean)"
        ],
        [
         "2015-01-10",
         "2023-05-28T09:47:00.000+0000",
         "F9 v1.1 B1012",
         "CCAFS LC-40",
         "SpaceX CRS-5",
         2395,
         "LEO (ISS)",
         "NASA (CRS)",
         "Success",
         "Failure (drone ship)"
        ],
        [
         "2015-02-11",
         "2023-05-28T23:03:00.000+0000",
         "F9 v1.1 B1013",
         "CCAFS LC-40",
         "DSCOVR",
         570,
         "HEO",
         "U.S. Air Force NASA NOAA",
         "Success",
         "Controlled (ocean)"
        ],
        [
         "2015-03-02",
         "2023-05-28T03:50:00.000+0000",
         "F9 v1.1 B1014",
         "CCAFS LC-40",
         "ABS-3A Eutelsat 115 West B",
         4159,
         "GTO",
         "ABS Eutelsat",
         "Success",
         "No attempt"
        ],
        [
         "2015-04-14",
         "2023-05-28T20:10:00.000+0000",
         "F9 v1.1 B1015",
         "CCAFS LC-40",
         "SpaceX CRS-6",
         1898,
         "LEO (ISS)",
         "NASA (CRS)",
         "Success",
         "Failure (drone ship)"
        ],
        [
         "2015-04-27",
         "2023-05-28T23:03:00.000+0000",
         "F9 v1.1 B1016",
         "CCAFS LC-40",
         "Turkmen 52 / MonacoSAT",
         4707,
         "GTO",
         "Turkmenistan National Space Agency",
         "Success",
         "No attempt"
        ],
        [
         "2015-06-28",
         "2023-05-28T14:21:00.000+0000",
         "F9 v1.1 B1018",
         "CCAFS LC-40",
         "SpaceX CRS-7",
         1952,
         "LEO (ISS)",
         "NASA (CRS)",
         "Failure (in flight)",
         "Precluded (drone ship)"
        ],
        [
         "2015-12-22",
         "2023-05-28T01:29:00.000+0000",
         "F9 FT B1019",
         "CCAFS LC-40",
         "OG2 Mission 2  11 Orbcomm-OG2 satellites",
         2034,
         "LEO",
         "Orbcomm",
         "Success",
         "Success (ground pad)"
        ],
        [
         "2016-01-17",
         "2023-05-28T18:42:00.000+0000",
         "F9 v1.1 B1017",
         "VAFB SLC-4E",
         "Jason-3",
         553,
         "LEO",
         "NASA (LSP) NOAA CNES",
         "Success",
         "Failure (drone ship)"
        ],
        [
         "2016-03-04",
         "2023-05-28T23:35:00.000+0000",
         "F9 FT B1020",
         "CCAFS LC-40",
         "SES-9",
         5271,
         "GTO",
         "SES",
         "Success",
         "Failure (drone ship)"
        ],
        [
         "2016-04-08",
         "2023-05-28T20:43:00.000+0000",
         "F9 FT B1021.1",
         "CCAFS LC-40",
         "SpaceX CRS-8",
         3136,
         "LEO (ISS)",
         "NASA (CRS)",
         "Success",
         "Success (drone ship)"
        ],
        [
         "2016-05-06",
         "2023-05-28T05:21:00.000+0000",
         "F9 FT B1022",
         "CCAFS LC-40",
         "JCSAT-14",
         4696,
         "GTO",
         "SKY Perfect JSAT Group",
         "Success",
         "Success (drone ship)"
        ],
        [
         "2016-05-27",
         "2023-05-28T21:39:00.000+0000",
         "F9 FT B1023.1",
         "CCAFS LC-40",
         "Thaicom 8",
         3100,
         "GTO",
         "Thaicom",
         "Success",
         "Success (drone ship)"
        ],
        [
         "2016-06-15",
         "2023-05-28T14:29:00.000+0000",
         "F9 FT B1024",
         "CCAFS LC-40",
         "ABS-2A Eutelsat 117 West B",
         3600,
         "GTO",
         "ABS Eutelsat",
         "Success",
         "Failure (drone ship)"
        ],
        [
         "2016-07-18",
         "2023-05-28T04:45:00.000+0000",
         "F9 FT B1025.1",
         "CCAFS LC-40",
         "SpaceX CRS-9",
         2257,
         "LEO (ISS)",
         "NASA (CRS)",
         "Success",
         "Success (ground pad)"
        ],
        [
         "2016-08-14",
         "2023-05-28T05:26:00.000+0000",
         "F9 FT B1026",
         "CCAFS LC-40",
         "JCSAT-16",
         4600,
         "GTO",
         "SKY Perfect JSAT Group",
         "Success",
         "Success (drone ship)"
        ],
        [
         "2017-01-14",
         "2023-05-28T17:54:00.000+0000",
         "F9 FT B1029.1",
         "VAFB SLC-4E",
         "Iridium NEXT 1",
         9600,
         "Polar LEO",
         "Iridium Communications",
         "Success",
         "Success (drone ship)"
        ],
        [
         "2017-02-19",
         "2023-05-28T14:39:00.000+0000",
         "F9 FT B1031.1",
         "KSC LC-39A",
         "SpaceX CRS-10",
         2490,
         "LEO (ISS)",
         "NASA (CRS)",
         "Success",
         "Success (ground pad)"
        ],
        [
         "2017-03-16",
         "2023-05-28T06:00:00.000+0000",
         "F9 FT B1030",
         "KSC LC-39A",
         "EchoStar 23",
         5600,
         "GTO",
         "EchoStar",
         "Success",
         "No attempt"
        ],
        [
         "2017-03-30",
         "2023-05-28T22:27:00.000+0000",
         "F9 FT  B1021.2",
         "KSC LC-39A",
         "SES-10",
         5300,
         "GTO",
         "SES",
         "Success",
         "Success (drone ship)"
        ],
        [
         "2017-05-01",
         "2023-05-28T11:15:00.000+0000",
         "F9 FT B1032.1",
         "KSC LC-39A",
         "NROL-76",
         5300,
         "LEO",
         "NRO",
         "Success",
         "Success (ground pad)"
        ],
        [
         "2017-05-15",
         "2023-05-28T23:21:00.000+0000",
         "F9 FT B1034",
         "KSC LC-39A",
         "Inmarsat-5 F4",
         6070,
         "GTO",
         "Inmarsat",
         "Success",
         "No attempt"
        ],
        [
         "2017-06-03",
         "2023-05-28T21:07:00.000+0000",
         "F9 FT B1035.1",
         "KSC LC-39A",
         "SpaceX CRS-11",
         2708,
         "LEO (ISS)",
         "NASA (CRS)",
         "Success",
         "Success (ground pad)"
        ],
        [
         "2017-06-23",
         "2023-05-28T19:10:00.000+0000",
         "F9 FT  B1029.2",
         "KSC LC-39A",
         "BulgariaSat-1",
         3669,
         "GTO",
         "Bulsatcom",
         "Success",
         "Success (drone ship)"
        ],
        [
         "2017-06-25",
         "2023-05-28T20:25:00.000+0000",
         "F9 FT B1036.1",
         "VAFB SLC-4E",
         "Iridium NEXT 2",
         9600,
         "LEO",
         "Iridium Communications",
         "Success",
         "Success (drone ship)"
        ],
        [
         "2017-07-05",
         "2023-05-28T23:38:00.000+0000",
         "F9 FT B1037",
         "KSC LC-39A",
         "Intelsat 35e",
         6761,
         "GTO",
         "Intelsat",
         "Success",
         "No attempt"
        ],
        [
         "2017-08-14",
         "2023-05-28T16:31:00.000+0000",
         "F9 B4 B1039.1",
         "KSC LC-39A",
         "SpaceX CRS-12",
         3310,
         "LEO (ISS)",
         "NASA (CRS)",
         "Success",
         "Success (ground pad)"
        ],
        [
         "2017-08-24",
         "2023-05-28T18:51:00.000+0000",
         "F9 FT B1038.1",
         "VAFB SLC-4E",
         "Formosat-5",
         475,
         "SSO",
         "NSPO",
         "Success",
         "Success (drone ship)"
        ],
        [
         "2017-09-07",
         "2023-05-28T14:00:00.000+0000",
         "F9 B4 B1040.1",
         "KSC LC-39A",
         "Boeing X-37B OTV-5",
         4990,
         "LEO",
         "U.S. Air Force",
         "Success",
         "Success (ground pad)"
        ],
        [
         "2017-10-09",
         "2023-05-28T12:37:00.000+0000",
         "F9 B4 B1041.1",
         "VAFB SLC-4E",
         "Iridium NEXT 3",
         9600,
         "Polar LEO",
         "Iridium Communications",
         "Success",
         "Success (drone ship)"
        ],
        [
         "2017-10-11",
         "2023-05-28T22:53:00.000+0000",
         "F9 FT  B1031.2",
         "KSC LC-39A",
         "SES-11 / EchoStar 105",
         5200,
         "GTO",
         "SES EchoStar",
         "Success",
         "Success (drone ship)"
        ],
        [
         "2017-10-30",
         "2023-05-28T19:34:00.000+0000",
         "F9 B4 B1042.1",
         "KSC LC-39A",
         "Koreasat 5A",
         3500,
         "GTO",
         "KT Corporation",
         "Success",
         "Success (drone ship)"
        ],
        [
         "2017-12-15",
         "2023-05-28T15:36:00.000+0000",
         "F9 FT  B1035.2",
         "CCAFS SLC-40",
         "SpaceX CRS-13",
         2205,
         "LEO (ISS)",
         "NASA (CRS)",
         "Success",
         "Success (ground pad)"
        ],
        [
         "2017-12-23",
         "2023-05-28T01:27:00.000+0000",
         "F9 FT  B1036.2",
         "VAFB SLC-4E",
         "Iridium NEXT 4",
         9600,
         "Polar LEO",
         "Iridium Communications",
         "Success",
         "Controlled (ocean)"
        ],
        [
         "2018-01-08",
         "2023-05-28T01:00:00.000+0000",
         "F9 B4 B1043.1",
         "CCAFS SLC-40",
         "Zuma",
         5000,
         "LEO",
         "Northrop Grumman",
         "Success (payload status unclear)",
         "Success (ground pad)"
        ],
        [
         "2018-01-31",
         "2023-05-28T21:25:00.000+0000",
         "F9 FT  B1032.2",
         "CCAFS SLC-40",
         "GovSat-1 / SES-16",
         4230,
         "GTO",
         "SES",
         "Success",
         "Controlled (ocean)"
        ],
        [
         "2018-02-22",
         "2023-05-28T14:17:00.000+0000",
         "F9 FT  B1038.2",
         "VAFB SLC-4E",
         "Paz  Tintin A & B",
         2150,
         "SSO",
         "Hisdesat exactEarth SpaceX",
         "Success",
         "No attempt"
        ],
        [
         "2018-03-06",
         "2023-05-28T05:33:00.000+0000",
         "F9 B4 B1044",
         "CCAFS SLC-40",
         "Hispasat 30W-6  PODSat",
         6092,
         "GTO",
         "Hispasat  NovaWurks",
         "Success",
         "No attempt"
        ],
        [
         "2018-03-30",
         "2023-05-28T14:14:00.000+0000",
         "F9 B4  B1041.2",
         "VAFB SLC-4E",
         "Iridium NEXT 5",
         9600,
         "Polar LEO",
         "Iridium Communications",
         "Success",
         "No attempt"
        ],
        [
         "2018-04-02",
         "2023-05-28T20:30:00.000+0000",
         "F9 B4  B1039.2",
         "CCAFS SLC-40",
         "SpaceX CRS-14",
         2647,
         "LEO (ISS)",
         "NASA (CRS)",
         "Success",
         "No attempt"
        ],
        [
         "2018-04-18",
         "2023-05-28T22:51:00.000+0000",
         "F9 B4 B1045.1",
         "CCAFS SLC-40",
         "Transiting Exoplanet Survey Satellite (TESS)",
         362,
         "HEO",
         "NASA (LSP)",
         "Success",
         "Success (drone ship)"
        ],
        [
         "2018-05-11",
         "2023-05-28T20:14:00.000+0000",
         "F9 B5  B1046.1",
         "KSC LC-39A",
         "Bangabandhu-1",
         3600,
         "GTO",
         "Thales-Alenia/BTRC",
         "Success",
         "Success (drone ship)"
        ],
        [
         "2018-05-22",
         "2023-05-28T19:47:58.000+0000",
         "F9 B4  B1043.2",
         "VAFB SLC-4E",
         "Iridium NEXT 6   GRACE-FO 1, 2",
         6460,
         "Polar LEO",
         "Iridium Communications GFZ ‚ NASA",
         "Success",
         "No attempt"
        ],
        [
         "2018-06-04",
         "2023-05-28T04:45:00.000+0000",
         "F9 B4  B1040.2",
         "CCAFS SLC-40",
         "SES-12",
         5384,
         "GTO",
         "SES",
         "Success",
         "No attempt"
        ],
        [
         "2018-06-29",
         "2023-05-28T09:42:00.000+0000",
         "F9 B4 B1045.2",
         "CCAFS SLC-40",
         "SpaceX CRS-15",
         2697,
         "LEO (ISS)",
         "NASA (CRS)",
         "Success",
         "No attempt"
        ],
        [
         "2018-07-22",
         "2023-05-28T05:50:00.000+0000",
         "F9 B5B1047.1",
         "CCAFS SLC-40",
         "Telstar 19V",
         7075,
         "GTO",
         "Telesat",
         "Success",
         "Success"
        ],
        [
         "2018-07-25",
         "2023-05-28T11:39:00.000+0000",
         "F9 B5B1048.1",
         "VAFB SLC-4E",
         "Iridium NEXT-7",
         9600,
         "Polar LEO",
         "Iridium Communications",
         "Success",
         "Success"
        ],
        [
         "2018-08-07",
         "2023-05-28T05:18:00.000+0000",
         "F9 B5 B1046.2",
         "CCAFS SLC-40",
         "Merah Putih ",
         5800,
         "GTO",
         "Telkom Indonesia",
         "Success",
         "Success"
        ],
        [
         "2018-09-10",
         "2023-05-28T04:45:00.000+0000",
         "F9 B5B1049.1",
         "CCAFS SLC-40",
         "Telstar 18V / Apstar-5C",
         7060,
         "GTO",
         "Telesat",
         "Success",
         "Success"
        ],
        [
         "2018-10-08",
         "2023-05-28T02:22:00.000+0000",
         "F9 B5 B1048.2",
         "VAFB SLC-4E",
         "SAOCOM 1A",
         3000,
         "SSO",
         "CONAE",
         "Success",
         "Success"
        ],
        [
         "2018-11-15",
         "2023-05-28T20:46:00.000+0000",
         "F9 B5 B1047.2",
         "KSC LC-39A",
         "Es hail 2",
         5300,
         "GTO",
         "Es hailSat",
         "Success",
         "Success"
        ],
        [
         "2018-12-03",
         "2023-05-28T18:34:05.000+0000",
         "F9 B5 B1046.3",
         "VAFB SLC-4E",
         "SSO-A ",
         4000,
         "SSO",
         "Spaceflight Industries",
         "Success",
         "Success"
        ],
        [
         "2018-12-05",
         "2023-05-28T18:16:00.000+0000",
         "F9 B5B1050",
         "CCAFS SLC-40",
         "SpaceX CRS-16",
         2500,
         "LEO (ISS)",
         "NASA (CRS)",
         "Success",
         "Failure"
        ],
        [
         "2018-12-23",
         "2023-05-28T13:51:00.000+0000",
         "F9 B5B1054",
         "CCAFS SLC-40",
         "GPS III-01 ",
         4400,
         "MEO",
         "USAF",
         "Success ",
         "No attempt"
        ],
        [
         "2019-01-11",
         "2023-05-28T15:31:00.000+0000",
         "F9 B5 B1049.2",
         "VAFB SLC-4E",
         "Iridium NEXT-8",
         9600,
         "Polar LEO",
         "Iridium Communications",
         "Success",
         "Success"
        ],
        [
         "2019-02-22",
         "2023-05-28T01:45:00.000+0000",
         "F9 B5 B1048.3",
         "CCAFS SLC-40",
         "Nusantara Satu, Beresheet Moon lander, S5",
         4850,
         "GTO",
         "PSN, SpaceIL / IAI",
         "Success",
         "Success"
        ],
        [
         "2019-03-02",
         "2023-05-28T07:49:00.000+0000",
         "F9 B5B1051.1",
         "KSC LC-39A",
         "Crew Dragon Demo-1, SpaceX CRS-17 ",
         12055,
         "LEO (ISS)",
         "NASA (CCD) ",
         "Success",
         "Success"
        ],
        [
         "2019-05-04",
         "2023-05-28T06:48:00.000+0000",
         "F9 B5B1056.1 ",
         "CCAFS SLC-40",
         "SpaceX CRS-17, Starlink v0.9",
         2495,
         "LEO (ISS)",
         "NASA (CRS)",
         "Success",
         "Success"
        ],
        [
         "2019-05-24",
         "2023-05-28T02:30:00.000+0000",
         "F9 B5 B1049.3",
         "CCAFS SLC-40",
         "Starlink v0.9, RADARSAT Constellation",
         13620,
         "LEO",
         "SpaceX",
         "Success",
         "Success"
        ],
        [
         "2019-06-12",
         "2023-05-28T14:17:00.000+0000",
         "F9 B5 B1051.2 ",
         "VAFB SLC-4E",
         "RADARSAT Constellation, SpaceX CRS-18 ",
         4200,
         "SSO",
         "Canadian Space Agency (CSA)",
         "Success",
         "Success"
        ],
        [
         "2019-07-25",
         "2023-05-28T22:01:00.000+0000",
         "F9 B5 B1056.2 ",
         "CCAFS SLC-40",
         "SpaceX CRS-18, AMOS-17 ",
         2268,
         "LEO (ISS)",
         "NASA (CRS)",
         "Success",
         "Success"
        ],
        [
         "2019-08-06",
         "2023-05-28T23:23:00.000+0000",
         "F9 B5 B1047.3 ",
         "CCAFS SLC-40",
         "AMOS-17, Starlink 1 v1.0 ",
         6500,
         "GTO",
         "Spacecom",
         "Success",
         "No attempt "
        ],
        [
         "2019-11-11",
         "2023-05-28T14:56:00.000+0000",
         "F9 B5 B1048.4",
         "CCAFS SLC-40",
         "Starlink 1 v1.0, SpaceX CRS-19 ",
         15600,
         "LEO",
         "SpaceX",
         "Success",
         "Success"
        ],
        [
         "2019-12-05",
         "2023-05-28T17:29:00.000+0000",
         "F9 B5B1059.1",
         "CCAFS SLC-40",
         "SpaceX CRS-19, JCSat-18 / Kacific 1 ",
         2617,
         "LEO (ISS)",
         "NASA (CRS), Kacific 1",
         "Success",
         "Success"
        ],
        [
         "2019-12-17",
         "2023-05-28T00:10:00.000+0000",
         "F9 B5 B1056.3 ",
         "CCAFS SLC-40",
         "JCSat-18 / Kacific 1, Starlink 2 v1.0 ",
         6956,
         "GTO",
         "Sky Perfect JSAT, Kacific 1",
         "Success",
         "Success"
        ],
        [
         "2020-01-07",
         "2023-05-28T02:33:00.000+0000",
         "F9 B5 B1049.4",
         "CCAFS SLC-40",
         "Starlink 2 v1.0, Crew Dragon in-flight abort test ",
         15600,
         "LEO",
         "SpaceX",
         "Success",
         "Success"
        ],
        [
         "2020-01-19",
         "2023-05-28T15:30:00.000+0000",
         "F9 B5 B1046.4",
         "KSC LC-39A",
         "Crew Dragon in-flight abort test, Starlink 3 v1.0 ",
         12050,
         "Sub-orbital",
         "NASA (CTS)",
         "Success",
         "No attempt"
        ],
        [
         "2020-01-29",
         "2023-05-28T14:07:00.000+0000",
         "F9 B5 B1051.3",
         "CCAFS SLC-40",
         "Starlink 3 v1.0, Starlink 4 v1.0 ",
         15600,
         "LEO",
         "SpaceX",
         "Success",
         "Success"
        ],
        [
         "2020-02-17",
         "2023-05-28T15:05:00.000+0000",
         "F9 B5 B1056.4",
         "CCAFS SLC-40",
         "Starlink 4 v1.0, SpaceX CRS-20",
         15600,
         "LEO",
         "SpaceX",
         "Success",
         "Failure"
        ],
        [
         "2020-03-07",
         "2023-05-28T04:50:00.000+0000",
         "F9 B5 B1059.2",
         "CCAFS SLC-40",
         "SpaceX CRS-20, Starlink 5 v1.0 ",
         1977,
         "LEO (ISS)",
         "NASA (CRS)",
         "Success",
         "Success"
        ],
        [
         "2020-03-18",
         "2023-05-28T12:16:00.000+0000",
         "F9 B5 B1048.5",
         "KSC LC-39A",
         "Starlink 5 v1.0, Starlink 6 v1.0 ",
         15600,
         "LEO",
         "SpaceX",
         "Success",
         "Failure"
        ],
        [
         "2020-04-22",
         "2023-05-28T19:30:00.000+0000",
         "F9 B5 B1051.4",
         "KSC LC-39A",
         "Starlink 6 v1.0, Crew Dragon Demo-2 ",
         15600,
         "LEO",
         "SpaceX",
         "Success",
         "Success"
        ],
        [
         "2020-05-30",
         "2023-05-28T19:22:00.000+0000",
         "F9 B5B1058.1 ",
         "KSC LC-39A",
         "Crew Dragon Demo-2, Starlink 7 v1.0 ",
         12530,
         "LEO (ISS)",
         "NASA (CCDev)",
         "Success",
         "Success"
        ],
        [
         "2020-06-04",
         "2023-05-28T01:25:00.000+0000",
         "F9 B5 B1049.5",
         "CCAFS SLC-40",
         "Starlink 7 v1.0, Starlink 8 v1.0",
         15600,
         "LEO",
         "SpaceX, Planet Labs",
         "Success",
         "Success"
        ],
        [
         "2020-06-13",
         "2023-05-28T09:21:00.000+0000",
         "F9 B5 B1059.3",
         "CCAFS SLC-40",
         "Starlink 8 v1.0, SkySats-16, -17, -18, GPS III-03 ",
         15410,
         "LEO",
         "SpaceX, Planet Labs",
         "Success",
         "Success"
        ],
        [
         "2020-06-30",
         "2023-05-28T20:10:46.000+0000",
         "F9 B5B1060.1",
         "CCAFS SLC-40",
         "GPS III-03, ANASIS-II",
         4311,
         "MEO",
         "U.S. Space Force",
         "Success",
         "Success"
        ],
        [
         "2020-07-20",
         "2023-05-28T21:30:00.000+0000",
         "F9 B5 B1058.2 ",
         "CCAFS SLC-40",
         "ANASIS-II, Starlink 9 v1.0",
         5500,
         "GTO",
         "Republic of Korea Army, Spaceflight Industries (BlackSky)",
         "Success",
         "Success"
        ],
        [
         "2020-08-07",
         "2023-05-28T05:12:00.000+0000",
         "F9 B5 B1051.5",
         "KSC LC-39A",
         "Starlink 9 v1.0, SXRS-1, Starlink 10 v1.0 ",
         14932,
         "LEO",
         "SpaceX, Spaceflight Industries (BlackSky), Planet Labs",
         "Success",
         "Success"
        ],
        [
         "2020-08-18",
         "2023-05-28T14:31:00.000+0000",
         "F9 B5 B1049.6",
         "CCAFS SLC-40",
         "Starlink 10 v1.0, SkySat-19, -20, -21, SAOCOM 1B ",
         15440,
         "LEO",
         "SpaceX, Planet Labs, PlanetIQ",
         "Success",
         "Success"
        ],
        [
         "2020-08-30",
         "2023-05-28T23:18:00.000+0000",
         "F9 B5 B1059.4",
         "CCAFS SLC-40",
         "SAOCOM 1B, GNOMES 1, Tyvak-0172",
         3130,
         "SSO",
         "CONAE, PlanetIQ, SpaceX",
         "Success",
         "Success"
        ],
        [
         "2020-09-03",
         "2023-05-28T12:46:14.000+0000",
         "F9 B5 B1060.2 ",
         "KSC LC-39A",
         "Starlink 11 v1.0, Starlink 12 v1.0 ",
         15600,
         "LEO",
         "SpaceX",
         "Success",
         "Success"
        ],
        [
         "2020-10-06",
         "2023-05-28T11:29:34.000+0000",
         "F9 B5 B1058.3 ",
         "KSC LC-39A",
         "Starlink 12 v1.0, Starlink 13 v1.0 ",
         15600,
         "LEO",
         "SpaceX",
         "Success",
         "Success"
        ],
        [
         "2020-10-18",
         "2023-05-28T12:25:57.000+0000",
         "F9 B5 B1051.6",
         "KSC LC-39A",
         "Starlink 13 v1.0, Starlink 14 v1.0 ",
         15600,
         "LEO",
         "SpaceX",
         "Success",
         "Success"
        ],
        [
         "2020-10-24",
         "2023-05-28T15:31:34.000+0000",
         "F9 B5 B1060.3",
         "CCAFS SLC-40",
         "Starlink 14 v1.0, GPS III-04  ",
         15600,
         "LEO",
         "SpaceX",
         "Success",
         "Success"
        ],
        [
         "2020-11-05",
         "2023-05-28T23:24:23.000+0000",
         "F9 B5B1062.1",
         "CCAFS SLC-40",
         "GPS III-04 , Crew-1",
         4311,
         "MEO",
         "USSF",
         "Success",
         "Success"
        ],
        [
         "2020-11-16",
         "2023-05-28T00:27:00.000+0000",
         "F9 B5B1061.1 ",
         "KSC LC-39A",
         "Crew-1, Sentinel-6 Michael Freilich ",
         12500,
         "LEO (ISS)",
         "NASA (CCP)",
         "Success",
         "Success"
        ],
        [
         "2020-11-21",
         "2023-05-28T17:17:08.000+0000",
         "F9 B5B1063.1",
         "VAFB SLC-4E",
         "Sentinel-6 Michael Freilich, Starlink 15 v1.0 ",
         1192,
         "LEO",
         "NASA / NOAA / ESA / EUMETSAT",
         "Success",
         "Success"
        ],
        [
         "2020-11-25",
         "2023-05-28T02:13:00.000+0000",
         "F9 B5 B1049.7 ",
         "CCAFS SLC-40",
         "Starlink 15 v1.0, SpaceX CRS-21",
         15600,
         "LEO",
         "SpaceX",
         "Success",
         "Success"
        ],
        [
         "2020-12-06",
         "2023-05-28T16:17:08.000+0000",
         "F9 B5 B1058.4 ",
         "KSC LC-39A",
         "SpaceX CRS-21",
         2972,
         "LEO (ISS)",
         "NASA (CRS)",
         "Success",
         "Success"
        ]
       ],
       "datasetInfos": [],
       "dbfsResultPath": null,
       "isJsonSchema": true,
       "metadata": {},
       "overflow": false,
       "plotOptions": {
        "customPlotOptions": {},
        "displayType": "table",
        "pivotAggregation": null,
        "pivotColumns": null,
        "xColumns": null,
        "yColumns": null
       },
       "removedWidgets": [],
       "schema": [
        {
         "metadata": "{}",
         "name": "Date",
         "type": "\"date\""
        },
        {
         "metadata": "{}",
         "name": "Time (UTC)",
         "type": "\"timestamp\""
        },
        {
         "metadata": "{}",
         "name": "Booster_Version",
         "type": "\"string\""
        },
        {
         "metadata": "{}",
         "name": "Launch_Site",
         "type": "\"string\""
        },
        {
         "metadata": "{}",
         "name": "Payload",
         "type": "\"string\""
        },
        {
         "metadata": "{}",
         "name": "PAYLOAD_MASS__KG_",
         "type": "\"long\""
        },
        {
         "metadata": "{}",
         "name": "Orbit",
         "type": "\"string\""
        },
        {
         "metadata": "{}",
         "name": "Customer",
         "type": "\"string\""
        },
        {
         "metadata": "{}",
         "name": "Mission_Outcome",
         "type": "\"string\""
        },
        {
         "metadata": "{}",
         "name": "Landing _Outcome",
         "type": "\"string\""
        }
       ],
       "type": "table"
      }
     },
     "output_type": "display_data"
    }
   ],
   "source": [
    "display(df)"
   ]
  },
  {
   "cell_type": "code",
   "execution_count": 0,
   "metadata": {
    "application/vnd.databricks.v1+cell": {
     "cellMetadata": {
      "byteLimit": 2048000,
      "implicitDf": true,
      "rowLimit": 10000
     },
     "inputWidgets": {},
     "nuid": "6a1c8b7d-a86f-4f56-850b-cfcccb572489",
     "showTitle": false,
     "title": ""
    }
   },
   "outputs": [
    {
     "output_type": "display_data",
     "data": {
      "text/html": [
       "<style scoped>\n",
       "  .table-result-container {\n",
       "    max-height: 300px;\n",
       "    overflow: auto;\n",
       "  }\n",
       "  table, th, td {\n",
       "    border: 1px solid black;\n",
       "    border-collapse: collapse;\n",
       "  }\n",
       "  th, td {\n",
       "    padding: 5px;\n",
       "  }\n",
       "  th {\n",
       "    text-align: left;\n",
       "  }\n",
       "</style><div class='table-result-container'><table class='table-result'><thead style='background-color: white'><tr><th>Launch_Site</th></tr></thead><tbody><tr><td>CCAFS SLC-40</td></tr><tr><td>VAFB SLC-4E</td></tr><tr><td>KSC LC-39A</td></tr><tr><td>CCAFS LC-40</td></tr></tbody></table></div>"
      ]
     },
     "metadata": {
      "application/vnd.databricks.v1+output": {
       "addedWidgets": {},
       "aggData": [],
       "aggError": "",
       "aggOverflow": false,
       "aggSchema": [],
       "aggSeriesLimitReached": false,
       "aggType": "",
       "arguments": {},
       "columnCustomDisplayInfos": {},
       "data": [
        [
         "CCAFS SLC-40"
        ],
        [
         "VAFB SLC-4E"
        ],
        [
         "KSC LC-39A"
        ],
        [
         "CCAFS LC-40"
        ]
       ],
       "datasetInfos": [
        {
         "name": "_sqldf",
         "schema": {
          "fields": [
           {
            "metadata": {},
            "name": "Launch_Site",
            "nullable": true,
            "type": "string"
           }
          ],
          "type": "struct"
         },
         "tableIdentifier": null,
         "typeStr": "pyspark.sql.dataframe.DataFrame"
        }
       ],
       "dbfsResultPath": null,
       "isJsonSchema": true,
       "metadata": {
        "dataframeName": "_sqldf",
        "executionCount": 51
       },
       "overflow": false,
       "plotOptions": {
        "customPlotOptions": {},
        "displayType": "table",
        "pivotAggregation": null,
        "pivotColumns": null,
        "xColumns": null,
        "yColumns": null
       },
       "removedWidgets": [],
       "schema": [
        {
         "metadata": "{}",
         "name": "Launch_Site",
         "type": "\"string\""
        }
       ],
       "type": "table"
      }
     },
     "output_type": "display_data"
    }
   ],
   "source": [
    "%sql SELECT DISTINCT Launch_Site FROM `hive_metastore`.`spacex`.`spacex_table`\n"
   ]
  },
  {
   "cell_type": "code",
   "execution_count": 0,
   "metadata": {
    "application/vnd.databricks.v1+cell": {
     "cellMetadata": {
      "byteLimit": 2048000,
      "implicitDf": true,
      "rowLimit": 10000
     },
     "inputWidgets": {},
     "nuid": "97c34b37-17f4-4822-964d-0d2b775d6c9a",
     "showTitle": false,
     "title": ""
    }
   },
   "outputs": [
    {
     "output_type": "display_data",
     "data": {
      "text/html": [
       "<style scoped>\n",
       "  .table-result-container {\n",
       "    max-height: 300px;\n",
       "    overflow: auto;\n",
       "  }\n",
       "  table, th, td {\n",
       "    border: 1px solid black;\n",
       "    border-collapse: collapse;\n",
       "  }\n",
       "  th, td {\n",
       "    padding: 5px;\n",
       "  }\n",
       "  th {\n",
       "    text-align: left;\n",
       "  }\n",
       "</style><div class='table-result-container'><table class='table-result'><thead style='background-color: white'><tr><th>Date</th><th>Time (UTC)</th><th>Booster_Version</th><th>Launch_Site</th><th>Payload</th><th>PAYLOAD_MASS__KG_</th><th>Orbit</th><th>Customer</th><th>Mission_Outcome</th><th>Landing _Outcome</th></tr></thead><tbody><tr><td>2010-06-04</td><td>2023-05-28T18:45:00.000+0000</td><td>F9 v1.0  B0003</td><td>CCAFS LC-40</td><td>Dragon Spacecraft Qualification Unit</td><td>0</td><td>LEO</td><td>SpaceX</td><td>Success</td><td>Failure (parachute)</td></tr><tr><td>2010-12-08</td><td>2023-05-28T15:43:00.000+0000</td><td>F9 v1.0  B0004</td><td>CCAFS LC-40</td><td>Dragon demo flight C1, two CubeSats, barrel of Brouere cheese</td><td>0</td><td>LEO (ISS)</td><td>NASA (COTS) NRO</td><td>Success</td><td>Failure (parachute)</td></tr><tr><td>2012-05-22</td><td>2023-05-28T07:44:00.000+0000</td><td>F9 v1.0  B0005</td><td>CCAFS LC-40</td><td>Dragon demo flight C2</td><td>525</td><td>LEO (ISS)</td><td>NASA (COTS)</td><td>Success</td><td>No attempt</td></tr><tr><td>2012-10-08</td><td>2023-05-28T00:35:00.000+0000</td><td>F9 v1.0  B0006</td><td>CCAFS LC-40</td><td>SpaceX CRS-1</td><td>500</td><td>LEO (ISS)</td><td>NASA (CRS)</td><td>Success</td><td>No attempt</td></tr><tr><td>2013-03-01</td><td>2023-05-28T15:10:00.000+0000</td><td>F9 v1.0  B0007</td><td>CCAFS LC-40</td><td>SpaceX CRS-2</td><td>677</td><td>LEO (ISS)</td><td>NASA (CRS)</td><td>Success</td><td>No attempt</td></tr></tbody></table></div>"
      ]
     },
     "metadata": {
      "application/vnd.databricks.v1+output": {
       "addedWidgets": {},
       "aggData": [],
       "aggError": "",
       "aggOverflow": false,
       "aggSchema": [],
       "aggSeriesLimitReached": false,
       "aggType": "",
       "arguments": {},
       "columnCustomDisplayInfos": {},
       "data": [
        [
         "2010-06-04",
         "2023-05-28T18:45:00.000+0000",
         "F9 v1.0  B0003",
         "CCAFS LC-40",
         "Dragon Spacecraft Qualification Unit",
         0,
         "LEO",
         "SpaceX",
         "Success",
         "Failure (parachute)"
        ],
        [
         "2010-12-08",
         "2023-05-28T15:43:00.000+0000",
         "F9 v1.0  B0004",
         "CCAFS LC-40",
         "Dragon demo flight C1, two CubeSats, barrel of Brouere cheese",
         0,
         "LEO (ISS)",
         "NASA (COTS) NRO",
         "Success",
         "Failure (parachute)"
        ],
        [
         "2012-05-22",
         "2023-05-28T07:44:00.000+0000",
         "F9 v1.0  B0005",
         "CCAFS LC-40",
         "Dragon demo flight C2",
         525,
         "LEO (ISS)",
         "NASA (COTS)",
         "Success",
         "No attempt"
        ],
        [
         "2012-10-08",
         "2023-05-28T00:35:00.000+0000",
         "F9 v1.0  B0006",
         "CCAFS LC-40",
         "SpaceX CRS-1",
         500,
         "LEO (ISS)",
         "NASA (CRS)",
         "Success",
         "No attempt"
        ],
        [
         "2013-03-01",
         "2023-05-28T15:10:00.000+0000",
         "F9 v1.0  B0007",
         "CCAFS LC-40",
         "SpaceX CRS-2",
         677,
         "LEO (ISS)",
         "NASA (CRS)",
         "Success",
         "No attempt"
        ]
       ],
       "datasetInfos": [
        {
         "name": "_sqldf",
         "schema": {
          "fields": [
           {
            "metadata": {},
            "name": "Date",
            "nullable": true,
            "type": "date"
           },
           {
            "metadata": {},
            "name": "Time (UTC)",
            "nullable": true,
            "type": "timestamp"
           },
           {
            "metadata": {},
            "name": "Booster_Version",
            "nullable": true,
            "type": "string"
           },
           {
            "metadata": {},
            "name": "Launch_Site",
            "nullable": true,
            "type": "string"
           },
           {
            "metadata": {},
            "name": "Payload",
            "nullable": true,
            "type": "string"
           },
           {
            "metadata": {},
            "name": "PAYLOAD_MASS__KG_",
            "nullable": true,
            "type": "long"
           },
           {
            "metadata": {},
            "name": "Orbit",
            "nullable": true,
            "type": "string"
           },
           {
            "metadata": {},
            "name": "Customer",
            "nullable": true,
            "type": "string"
           },
           {
            "metadata": {},
            "name": "Mission_Outcome",
            "nullable": true,
            "type": "string"
           },
           {
            "metadata": {},
            "name": "Landing _Outcome",
            "nullable": true,
            "type": "string"
           }
          ],
          "type": "struct"
         },
         "tableIdentifier": null,
         "typeStr": "pyspark.sql.dataframe.DataFrame"
        }
       ],
       "dbfsResultPath": null,
       "isJsonSchema": true,
       "metadata": {
        "dataframeName": "_sqldf",
        "executionCount": 52
       },
       "overflow": false,
       "plotOptions": {
        "customPlotOptions": {},
        "displayType": "table",
        "pivotAggregation": null,
        "pivotColumns": null,
        "xColumns": null,
        "yColumns": null
       },
       "removedWidgets": [],
       "schema": [
        {
         "metadata": "{}",
         "name": "Date",
         "type": "\"date\""
        },
        {
         "metadata": "{}",
         "name": "Time (UTC)",
         "type": "\"timestamp\""
        },
        {
         "metadata": "{}",
         "name": "Booster_Version",
         "type": "\"string\""
        },
        {
         "metadata": "{}",
         "name": "Launch_Site",
         "type": "\"string\""
        },
        {
         "metadata": "{}",
         "name": "Payload",
         "type": "\"string\""
        },
        {
         "metadata": "{}",
         "name": "PAYLOAD_MASS__KG_",
         "type": "\"long\""
        },
        {
         "metadata": "{}",
         "name": "Orbit",
         "type": "\"string\""
        },
        {
         "metadata": "{}",
         "name": "Customer",
         "type": "\"string\""
        },
        {
         "metadata": "{}",
         "name": "Mission_Outcome",
         "type": "\"string\""
        },
        {
         "metadata": "{}",
         "name": "Landing _Outcome",
         "type": "\"string\""
        }
       ],
       "type": "table"
      }
     },
     "output_type": "display_data"
    }
   ],
   "source": [
    "%sql SELECT * FROM `hive_metastore`.`spacex`.`spacex_table` where Launch_Site like 'CCA%' LIMIT 5;"
   ]
  },
  {
   "cell_type": "code",
   "execution_count": 0,
   "metadata": {
    "application/vnd.databricks.v1+cell": {
     "cellMetadata": {
      "byteLimit": 2048000,
      "implicitDf": true,
      "rowLimit": 10000
     },
     "inputWidgets": {},
     "nuid": "36e92409-73e7-4f1a-aac9-c38aa927201d",
     "showTitle": false,
     "title": ""
    }
   },
   "outputs": [
    {
     "output_type": "display_data",
     "data": {
      "text/html": [
       "<style scoped>\n",
       "  .table-result-container {\n",
       "    max-height: 300px;\n",
       "    overflow: auto;\n",
       "  }\n",
       "  table, th, td {\n",
       "    border: 1px solid black;\n",
       "    border-collapse: collapse;\n",
       "  }\n",
       "  th, td {\n",
       "    padding: 5px;\n",
       "  }\n",
       "  th {\n",
       "    text-align: left;\n",
       "  }\n",
       "</style><div class='table-result-container'><table class='table-result'><thead style='background-color: white'><tr><th>total_payload_mass</th></tr></thead><tbody><tr><td>45596</td></tr></tbody></table></div>"
      ]
     },
     "metadata": {
      "application/vnd.databricks.v1+output": {
       "addedWidgets": {},
       "aggData": [],
       "aggError": "",
       "aggOverflow": false,
       "aggSchema": [],
       "aggSeriesLimitReached": false,
       "aggType": "",
       "arguments": {},
       "columnCustomDisplayInfos": {},
       "data": [
        [
         45596
        ]
       ],
       "datasetInfos": [
        {
         "name": "_sqldf",
         "schema": {
          "fields": [
           {
            "metadata": {},
            "name": "total_payload_mass",
            "nullable": true,
            "type": "long"
           }
          ],
          "type": "struct"
         },
         "tableIdentifier": null,
         "typeStr": "pyspark.sql.dataframe.DataFrame"
        }
       ],
       "dbfsResultPath": null,
       "isJsonSchema": true,
       "metadata": {
        "dataframeName": "_sqldf",
        "executionCount": 53
       },
       "overflow": false,
       "plotOptions": {
        "customPlotOptions": {},
        "displayType": "table",
        "pivotAggregation": null,
        "pivotColumns": null,
        "xColumns": null,
        "yColumns": null
       },
       "removedWidgets": [],
       "schema": [
        {
         "metadata": "{}",
         "name": "total_payload_mass",
         "type": "\"long\""
        }
       ],
       "type": "table"
      }
     },
     "output_type": "display_data"
    }
   ],
   "source": [
    "%sql SELECT sum(PAYLOAD_MASS__KG_) as total_payload_mass FROM `hive_metastore`.`spacex`.`spacex_table` where Customer = \"NASA (CRS)\";"
   ]
  },
  {
   "cell_type": "code",
   "execution_count": 0,
   "metadata": {
    "application/vnd.databricks.v1+cell": {
     "cellMetadata": {
      "byteLimit": 2048000,
      "implicitDf": true,
      "rowLimit": 10000
     },
     "inputWidgets": {},
     "nuid": "cdd69f1f-ccfa-4798-8917-de964f2472b5",
     "showTitle": false,
     "title": ""
    }
   },
   "outputs": [
    {
     "output_type": "display_data",
     "data": {
      "text/html": [
       "<style scoped>\n",
       "  .table-result-container {\n",
       "    max-height: 300px;\n",
       "    overflow: auto;\n",
       "  }\n",
       "  table, th, td {\n",
       "    border: 1px solid black;\n",
       "    border-collapse: collapse;\n",
       "  }\n",
       "  th, td {\n",
       "    padding: 5px;\n",
       "  }\n",
       "  th {\n",
       "    text-align: left;\n",
       "  }\n",
       "</style><div class='table-result-container'><table class='table-result'><thead style='background-color: white'><tr><th>Ave_Payload_mass</th></tr></thead><tbody><tr><td>2534.6666666666665</td></tr></tbody></table></div>"
      ]
     },
     "metadata": {
      "application/vnd.databricks.v1+output": {
       "addedWidgets": {},
       "aggData": [],
       "aggError": "",
       "aggOverflow": false,
       "aggSchema": [],
       "aggSeriesLimitReached": false,
       "aggType": "",
       "arguments": {},
       "columnCustomDisplayInfos": {},
       "data": [
        [
         2534.6666666666665
        ]
       ],
       "datasetInfos": [
        {
         "name": "_sqldf",
         "schema": {
          "fields": [
           {
            "metadata": {},
            "name": "Ave_Payload_mass",
            "nullable": true,
            "type": "double"
           }
          ],
          "type": "struct"
         },
         "tableIdentifier": null,
         "typeStr": "pyspark.sql.dataframe.DataFrame"
        }
       ],
       "dbfsResultPath": null,
       "isJsonSchema": true,
       "metadata": {
        "dataframeName": "_sqldf",
        "executionCount": 58
       },
       "overflow": false,
       "plotOptions": {
        "customPlotOptions": {},
        "displayType": "table",
        "pivotAggregation": null,
        "pivotColumns": null,
        "xColumns": null,
        "yColumns": null
       },
       "removedWidgets": [],
       "schema": [
        {
         "metadata": "{}",
         "name": "Ave_Payload_mass",
         "type": "\"double\""
        }
       ],
       "type": "table"
      }
     },
     "output_type": "display_data"
    }
   ],
   "source": [
    "%sql SELECT  AVG(PAYLOAD_MASS__KG_) as Ave_Payload_mass FROM `hive_metastore`.`spacex`.`spacex_table` where Booster_Version LIKE 'F9 v1.1%' "
   ]
  },
  {
   "cell_type": "code",
   "execution_count": 0,
   "metadata": {
    "application/vnd.databricks.v1+cell": {
     "cellMetadata": {
      "byteLimit": 2048000,
      "implicitDf": true,
      "rowLimit": 10000
     },
     "inputWidgets": {},
     "nuid": "e23d1332-2fc7-436e-8b51-630b2d83f523",
     "showTitle": false,
     "title": ""
    }
   },
   "outputs": [
    {
     "output_type": "display_data",
     "data": {
      "text/html": [
       "<style scoped>\n",
       "  .table-result-container {\n",
       "    max-height: 300px;\n",
       "    overflow: auto;\n",
       "  }\n",
       "  table, th, td {\n",
       "    border: 1px solid black;\n",
       "    border-collapse: collapse;\n",
       "  }\n",
       "  th, td {\n",
       "    padding: 5px;\n",
       "  }\n",
       "  th {\n",
       "    text-align: left;\n",
       "  }\n",
       "</style><div class='table-result-container'><table class='table-result'><thead style='background-color: white'><tr><th>Booster_Version</th><th>Payload</th><th>PAYLOAD_MASS__KG_</th></tr></thead><tbody><tr><td>F9 v1.1</td><td>AsiaSat 8</td><td>4535</td></tr><tr><td>F9 v1.1 B1011</td><td>AsiaSat 6</td><td>4428</td></tr><tr><td>F9 v1.1 B1014</td><td>ABS-3A Eutelsat 115 West B</td><td>4159</td></tr><tr><td>F9 v1.1 B1016</td><td>Turkmen 52 / MonacoSAT</td><td>4707</td></tr><tr><td>F9 FT B1020</td><td>SES-9</td><td>5271</td></tr><tr><td>F9 FT B1022</td><td>JCSAT-14</td><td>4696</td></tr><tr><td>F9 FT B1026</td><td>JCSAT-16</td><td>4600</td></tr><tr><td>F9 FT B1030</td><td>EchoStar 23</td><td>5600</td></tr><tr><td>F9 FT  B1021.2</td><td>SES-10</td><td>5300</td></tr><tr><td>F9 FT B1032.1</td><td>NROL-76</td><td>5300</td></tr><tr><td>F9 B4 B1040.1</td><td>Boeing X-37B OTV-5</td><td>4990</td></tr><tr><td>F9 FT  B1031.2</td><td>SES-11 / EchoStar 105</td><td>5200</td></tr><tr><td>F9 FT  B1032.2</td><td>GovSat-1 / SES-16</td><td>4230</td></tr><tr><td>F9 B4  B1040.2</td><td>SES-12</td><td>5384</td></tr><tr><td>F9 B5 B1046.2</td><td>Merah Putih </td><td>5800</td></tr><tr><td>F9 B5 B1047.2</td><td>Es hail 2</td><td>5300</td></tr><tr><td>F9 B5 B1048.3</td><td>Nusantara Satu, Beresheet Moon lander, S5</td><td>4850</td></tr><tr><td>F9 B5 B1051.2 </td><td>RADARSAT Constellation, SpaceX CRS-18 </td><td>4200</td></tr><tr><td>F9 B5B1060.1</td><td>GPS III-03, ANASIS-II</td><td>4311</td></tr><tr><td>F9 B5 B1058.2 </td><td>ANASIS-II, Starlink 9 v1.0</td><td>5500</td></tr><tr><td>F9 B5B1062.1</td><td>GPS III-04 , Crew-1</td><td>4311</td></tr></tbody></table></div>"
      ]
     },
     "metadata": {
      "application/vnd.databricks.v1+output": {
       "addedWidgets": {},
       "aggData": [],
       "aggError": "",
       "aggOverflow": false,
       "aggSchema": [],
       "aggSeriesLimitReached": false,
       "aggType": "",
       "arguments": {},
       "columnCustomDisplayInfos": {},
       "data": [
        [
         "F9 v1.1",
         "AsiaSat 8",
         4535
        ],
        [
         "F9 v1.1 B1011",
         "AsiaSat 6",
         4428
        ],
        [
         "F9 v1.1 B1014",
         "ABS-3A Eutelsat 115 West B",
         4159
        ],
        [
         "F9 v1.1 B1016",
         "Turkmen 52 / MonacoSAT",
         4707
        ],
        [
         "F9 FT B1020",
         "SES-9",
         5271
        ],
        [
         "F9 FT B1022",
         "JCSAT-14",
         4696
        ],
        [
         "F9 FT B1026",
         "JCSAT-16",
         4600
        ],
        [
         "F9 FT B1030",
         "EchoStar 23",
         5600
        ],
        [
         "F9 FT  B1021.2",
         "SES-10",
         5300
        ],
        [
         "F9 FT B1032.1",
         "NROL-76",
         5300
        ],
        [
         "F9 B4 B1040.1",
         "Boeing X-37B OTV-5",
         4990
        ],
        [
         "F9 FT  B1031.2",
         "SES-11 / EchoStar 105",
         5200
        ],
        [
         "F9 FT  B1032.2",
         "GovSat-1 / SES-16",
         4230
        ],
        [
         "F9 B4  B1040.2",
         "SES-12",
         5384
        ],
        [
         "F9 B5 B1046.2",
         "Merah Putih ",
         5800
        ],
        [
         "F9 B5 B1047.2",
         "Es hail 2",
         5300
        ],
        [
         "F9 B5 B1048.3",
         "Nusantara Satu, Beresheet Moon lander, S5",
         4850
        ],
        [
         "F9 B5 B1051.2 ",
         "RADARSAT Constellation, SpaceX CRS-18 ",
         4200
        ],
        [
         "F9 B5B1060.1",
         "GPS III-03, ANASIS-II",
         4311
        ],
        [
         "F9 B5 B1058.2 ",
         "ANASIS-II, Starlink 9 v1.0",
         5500
        ],
        [
         "F9 B5B1062.1",
         "GPS III-04 , Crew-1",
         4311
        ]
       ],
       "datasetInfos": [
        {
         "name": "_sqldf",
         "schema": {
          "fields": [
           {
            "metadata": {},
            "name": "Booster_Version",
            "nullable": true,
            "type": "string"
           },
           {
            "metadata": {},
            "name": "Payload",
            "nullable": true,
            "type": "string"
           },
           {
            "metadata": {},
            "name": "PAYLOAD_MASS__KG_",
            "nullable": true,
            "type": "long"
           }
          ],
          "type": "struct"
         },
         "tableIdentifier": null,
         "typeStr": "pyspark.sql.dataframe.DataFrame"
        }
       ],
       "dbfsResultPath": null,
       "isJsonSchema": true,
       "metadata": {
        "dataframeName": "_sqldf",
        "executionCount": 64
       },
       "overflow": false,
       "plotOptions": {
        "customPlotOptions": {},
        "displayType": "table",
        "pivotAggregation": null,
        "pivotColumns": null,
        "xColumns": null,
        "yColumns": null
       },
       "removedWidgets": [],
       "schema": [
        {
         "metadata": "{}",
         "name": "Booster_Version",
         "type": "\"string\""
        },
        {
         "metadata": "{}",
         "name": "Payload",
         "type": "\"string\""
        },
        {
         "metadata": "{}",
         "name": "PAYLOAD_MASS__KG_",
         "type": "\"long\""
        }
       ],
       "type": "table"
      }
     },
     "output_type": "display_data"
    }
   ],
   "source": [
    "%sql SELECT Booster_Version,Payload, PAYLOAD_MASS__KG_ FROM `hive_metastore`.`spacex`.`spacex_table` WHERE Mission_Outcome=\"Success\" AND PAYLOAD_MASS__KG_ < 6000 AND PAYLOAD_MASS__KG_>4000;\n"
   ]
  },
  {
   "cell_type": "code",
   "execution_count": 0,
   "metadata": {
    "application/vnd.databricks.v1+cell": {
     "cellMetadata": {
      "byteLimit": 2048000,
      "implicitDf": true,
      "rowLimit": 10000
     },
     "inputWidgets": {},
     "nuid": "dd8bae9b-e648-4036-8769-38bb81611364",
     "showTitle": false,
     "title": ""
    }
   },
   "outputs": [
    {
     "output_type": "display_data",
     "data": {
      "text/html": [
       "<style scoped>\n",
       "  .table-result-container {\n",
       "    max-height: 300px;\n",
       "    overflow: auto;\n",
       "  }\n",
       "  table, th, td {\n",
       "    border: 1px solid black;\n",
       "    border-collapse: collapse;\n",
       "  }\n",
       "  th, td {\n",
       "    padding: 5px;\n",
       "  }\n",
       "  th {\n",
       "    text-align: left;\n",
       "  }\n",
       "</style><div class='table-result-container'><table class='table-result'><thead style='background-color: white'><tr><th>Mission_Outcome</th><th>count(Mission_Outcome)</th></tr></thead><tbody><tr><td>Success</td><td>98</td></tr><tr><td>Success (payload status unclear)</td><td>1</td></tr><tr><td>Failure (in flight)</td><td>1</td></tr><tr><td>Success </td><td>1</td></tr></tbody></table></div>"
      ]
     },
     "metadata": {
      "application/vnd.databricks.v1+output": {
       "addedWidgets": {},
       "aggData": [],
       "aggError": "",
       "aggOverflow": false,
       "aggSchema": [],
       "aggSeriesLimitReached": false,
       "aggType": "",
       "arguments": {},
       "columnCustomDisplayInfos": {},
       "data": [
        [
         "Success",
         98
        ],
        [
         "Success (payload status unclear)",
         1
        ],
        [
         "Failure (in flight)",
         1
        ],
        [
         "Success ",
         1
        ]
       ],
       "datasetInfos": [
        {
         "name": "_sqldf",
         "schema": {
          "fields": [
           {
            "metadata": {},
            "name": "Mission_Outcome",
            "nullable": true,
            "type": "string"
           },
           {
            "metadata": {
             "__autoGeneratedAlias": "true"
            },
            "name": "count(Mission_Outcome)",
            "nullable": false,
            "type": "long"
           }
          ],
          "type": "struct"
         },
         "tableIdentifier": null,
         "typeStr": "pyspark.sql.dataframe.DataFrame"
        }
       ],
       "dbfsResultPath": null,
       "isJsonSchema": true,
       "metadata": {
        "dataframeName": "_sqldf",
        "executionCount": 66
       },
       "overflow": false,
       "plotOptions": {
        "customPlotOptions": {},
        "displayType": "table",
        "pivotAggregation": null,
        "pivotColumns": null,
        "xColumns": null,
        "yColumns": null
       },
       "removedWidgets": [],
       "schema": [
        {
         "metadata": "{}",
         "name": "Mission_Outcome",
         "type": "\"string\""
        },
        {
         "metadata": "{\"__autoGeneratedAlias\":\"true\"}",
         "name": "count(Mission_Outcome)",
         "type": "\"long\""
        }
       ],
       "type": "table"
      }
     },
     "output_type": "display_data"
    }
   ],
   "source": [
    "%sql SELECT Mission_Outcome, COUNT(Mission_Outcome) FROM `hive_metastore`.`spacex`.`spacex_table` group by Mission_Outcome;"
   ]
  },
  {
   "cell_type": "code",
   "execution_count": 0,
   "metadata": {
    "application/vnd.databricks.v1+cell": {
     "cellMetadata": {
      "byteLimit": 2048000,
      "implicitDf": true,
      "rowLimit": 10000
     },
     "inputWidgets": {},
     "nuid": "23ad6ef4-733a-4ad3-abd0-85eb6538b74e",
     "showTitle": false,
     "title": ""
    }
   },
   "outputs": [
    {
     "output_type": "display_data",
     "data": {
      "text/html": [
       "<style scoped>\n",
       "  .table-result-container {\n",
       "    max-height: 300px;\n",
       "    overflow: auto;\n",
       "  }\n",
       "  table, th, td {\n",
       "    border: 1px solid black;\n",
       "    border-collapse: collapse;\n",
       "  }\n",
       "  th, td {\n",
       "    padding: 5px;\n",
       "  }\n",
       "  th {\n",
       "    text-align: left;\n",
       "  }\n",
       "</style><div class='table-result-container'><table class='table-result'><thead style='background-color: white'><tr><th>Booster_Version</th><th>Payload</th><th>PAYLOAD_MASS__KG_</th></tr></thead><tbody><tr><td>F9 B5 B1048.4</td><td>Starlink 1 v1.0, SpaceX CRS-19 </td><td>15600</td></tr><tr><td>F9 B5 B1049.4</td><td>Starlink 2 v1.0, Crew Dragon in-flight abort test </td><td>15600</td></tr><tr><td>F9 B5 B1051.3</td><td>Starlink 3 v1.0, Starlink 4 v1.0 </td><td>15600</td></tr><tr><td>F9 B5 B1056.4</td><td>Starlink 4 v1.0, SpaceX CRS-20</td><td>15600</td></tr><tr><td>F9 B5 B1048.5</td><td>Starlink 5 v1.0, Starlink 6 v1.0 </td><td>15600</td></tr><tr><td>F9 B5 B1051.4</td><td>Starlink 6 v1.0, Crew Dragon Demo-2 </td><td>15600</td></tr><tr><td>F9 B5 B1049.5</td><td>Starlink 7 v1.0, Starlink 8 v1.0</td><td>15600</td></tr><tr><td>F9 B5 B1060.2 </td><td>Starlink 11 v1.0, Starlink 12 v1.0 </td><td>15600</td></tr><tr><td>F9 B5 B1058.3 </td><td>Starlink 12 v1.0, Starlink 13 v1.0 </td><td>15600</td></tr><tr><td>F9 B5 B1051.6</td><td>Starlink 13 v1.0, Starlink 14 v1.0 </td><td>15600</td></tr><tr><td>F9 B5 B1060.3</td><td>Starlink 14 v1.0, GPS III-04  </td><td>15600</td></tr><tr><td>F9 B5 B1049.7 </td><td>Starlink 15 v1.0, SpaceX CRS-21</td><td>15600</td></tr></tbody></table></div>"
      ]
     },
     "metadata": {
      "application/vnd.databricks.v1+output": {
       "addedWidgets": {},
       "aggData": [],
       "aggError": "",
       "aggOverflow": false,
       "aggSchema": [],
       "aggSeriesLimitReached": false,
       "aggType": "",
       "arguments": {},
       "columnCustomDisplayInfos": {},
       "data": [
        [
         "F9 B5 B1048.4",
         "Starlink 1 v1.0, SpaceX CRS-19 ",
         15600
        ],
        [
         "F9 B5 B1049.4",
         "Starlink 2 v1.0, Crew Dragon in-flight abort test ",
         15600
        ],
        [
         "F9 B5 B1051.3",
         "Starlink 3 v1.0, Starlink 4 v1.0 ",
         15600
        ],
        [
         "F9 B5 B1056.4",
         "Starlink 4 v1.0, SpaceX CRS-20",
         15600
        ],
        [
         "F9 B5 B1048.5",
         "Starlink 5 v1.0, Starlink 6 v1.0 ",
         15600
        ],
        [
         "F9 B5 B1051.4",
         "Starlink 6 v1.0, Crew Dragon Demo-2 ",
         15600
        ],
        [
         "F9 B5 B1049.5",
         "Starlink 7 v1.0, Starlink 8 v1.0",
         15600
        ],
        [
         "F9 B5 B1060.2 ",
         "Starlink 11 v1.0, Starlink 12 v1.0 ",
         15600
        ],
        [
         "F9 B5 B1058.3 ",
         "Starlink 12 v1.0, Starlink 13 v1.0 ",
         15600
        ],
        [
         "F9 B5 B1051.6",
         "Starlink 13 v1.0, Starlink 14 v1.0 ",
         15600
        ],
        [
         "F9 B5 B1060.3",
         "Starlink 14 v1.0, GPS III-04  ",
         15600
        ],
        [
         "F9 B5 B1049.7 ",
         "Starlink 15 v1.0, SpaceX CRS-21",
         15600
        ]
       ],
       "datasetInfos": [
        {
         "name": "_sqldf",
         "schema": {
          "fields": [
           {
            "metadata": {},
            "name": "Booster_Version",
            "nullable": true,
            "type": "string"
           },
           {
            "metadata": {},
            "name": "Payload",
            "nullable": true,
            "type": "string"
           },
           {
            "metadata": {},
            "name": "PAYLOAD_MASS__KG_",
            "nullable": true,
            "type": "long"
           }
          ],
          "type": "struct"
         },
         "tableIdentifier": null,
         "typeStr": "pyspark.sql.dataframe.DataFrame"
        }
       ],
       "dbfsResultPath": null,
       "isJsonSchema": true,
       "metadata": {
        "dataframeName": "_sqldf",
        "executionCount": 67
       },
       "overflow": false,
       "plotOptions": {
        "customPlotOptions": {},
        "displayType": "table",
        "pivotAggregation": null,
        "pivotColumns": null,
        "xColumns": null,
        "yColumns": null
       },
       "removedWidgets": [],
       "schema": [
        {
         "metadata": "{}",
         "name": "Booster_Version",
         "type": "\"string\""
        },
        {
         "metadata": "{}",
         "name": "Payload",
         "type": "\"string\""
        },
        {
         "metadata": "{}",
         "name": "PAYLOAD_MASS__KG_",
         "type": "\"long\""
        }
       ],
       "type": "table"
      }
     },
     "output_type": "display_data"
    }
   ],
   "source": [
    "%sql SELECT Booster_Version,Payload, PAYLOAD_MASS__KG_ FROM `hive_metastore`.`spacex`.`spacex_table` WHERE PAYLOAD_MASS__KG_=(SELECT MAX(PAYLOAD_MASS__KG_) FROM `hive_metastore`.`spacex`.`spacex_table`);\n"
   ]
  },
  {
   "cell_type": "code",
   "execution_count": 0,
   "metadata": {
    "application/vnd.databricks.v1+cell": {
     "cellMetadata": {},
     "inputWidgets": {},
     "nuid": "1f08b853-918f-4d55-b01e-d9d909e90d03",
     "showTitle": false,
     "title": ""
    }
   },
   "outputs": [],
   "source": []
  }
 ],
 "metadata": {
  "application/vnd.databricks.v1+notebook": {
   "dashboards": [],
   "language": "python",
   "notebookMetadata": {
    "mostRecentlyExecutedCommandWithImplicitDF": {
     "commandId": 985895481281177,
     "dataframes": [
      "_sqldf"
     ]
    },
    "pythonIndentUnit": 4
   },
   "notebookName": "SpaceX Queries 2023-05-28 12:34:27",
   "widgets": {}
  }
 },
 "nbformat": 4,
 "nbformat_minor": 0
}
